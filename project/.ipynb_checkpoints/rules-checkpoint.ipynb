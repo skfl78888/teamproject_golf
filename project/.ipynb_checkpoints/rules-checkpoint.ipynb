{
 "cells": [
  {
   "cell_type": "code",
   "execution_count": 8,
   "id": "e9d76aa7",
   "metadata": {},
   "outputs": [],
   "source": [
    "import os\n",
    "import json\n",
    "import cv2\n",
    "import numpy as np\n",
    "import matplotlib.pyplot as plt\n",
    "from inference.infer import PoseDetector, ActionClassifier"
   ]
  },
  {
   "cell_type": "code",
   "execution_count": 2,
   "id": "891809fb",
   "metadata": {},
   "outputs": [
    {
     "data": {
      "text/plain": [
       "['good.mp4',\n",
       " 'KakaoTalk_20221110_160630579.mp4',\n",
       " 'KakaoTalk_20221110_160630635.mp4',\n",
       " 'KakaoTalk_20221110_160633025.mp4',\n",
       " 'KakaoTalk_20221110_160635468.mp4',\n",
       " 'KakaoTalk_20221112_184323826_yg.mp4',\n",
       " 'label.mp4',\n",
       " 'mac.mp4',\n",
       " 'random.mp4',\n",
       " 'sm.mp4',\n",
       " 'sm2.mp4',\n",
       " 'sm3.mp4',\n",
       " '가볍게 치는 좋은 스윙 슬로우모션(GOLF SWING KLPGA).mp4']"
      ]
     },
     "execution_count": 2,
     "metadata": {},
     "output_type": "execute_result"
    }
   ],
   "source": [
    "# list 타입인 file 변수 중 원하는 영상에 접근 하시면 됩니다. \n",
    "# list 슬라이싱 사용하시면 되여\n",
    "# -------------------------------------------------------------------\n",
    "os.chdir('../')\n",
    "files = os.listdir('data_folder/src/')\n",
    "files"
   ]
  },
  {
   "cell_type": "code",
   "execution_count": 3,
   "id": "4557d437",
   "metadata": {},
   "outputs": [
    {
     "data": {
      "text/plain": [
       "'data_folder/src/KakaoTalk_20221110_160630579.mp4'"
      ]
     },
     "execution_count": 3,
     "metadata": {},
     "output_type": "execute_result"
    }
   ],
   "source": [
    "file = files[1] # 이부분 변경하시면 되여 예) files[0] -> files[1]\n",
    "src_dir = os.path.join('data_folder/src/', file)\n",
    "src_dir"
   ]
  },
  {
   "cell_type": "code",
   "execution_count": 4,
   "id": "f22d87d8",
   "metadata": {},
   "outputs": [
    {
     "name": "stdout",
     "output_type": "stream",
     "text": [
      "TRK Complete!\n",
      "TRK Complete!\n",
      "TRK Complete!\n",
      "TRK Complete!\n",
      "TRK Complete!\n"
     ]
    }
   ],
   "source": [
    "# 영상을 읽어 address, top 동작 등에 맞는 프레임을 찾아 \n",
    "# 좌표들을 반환하는 코드입니다.\n",
    "# ----------------------------------------------------------\n",
    "pose = PoseDetector()\n",
    "ac = ActionClassifier()\n",
    "with open('data_folder/parameter/params.json', 'r') as r:\n",
    "    params = json.load(r)\n",
    "actions = params.keys()\n",
    "for action in actions:\n",
    "    video = cv2.VideoCapture(src_dir)\n",
    "    while video.isOpened():\n",
    "        read_ok, frame = video.read()\n",
    "        if not read_ok:\n",
    "            print('TRK Complete!')\n",
    "            break\n",
    "        cnt = video.get(cv2.CAP_PROP_POS_FRAMES)\n",
    "        frame = cv2.cvtColor(frame, cv2.COLOR_BGR2RGB)\n",
    "        frame = cv2.resize(frame, dsize=(0, 0), fx=1.5, fy=1.5, interpolation=cv2.INTER_LINEAR)\n",
    "        pose_obj = pose.trk_process(image=frame)\n",
    "        pose.get_coordis_3d(pose_obj)\n",
    "        landmarked_img = pose.drawing_with_pose(frame, pose_obj)\n",
    "        ac.update_information(action=action,\n",
    "                            parameter=params,\n",
    "                            pose_coordis=pose.coordinates,\n",
    "                            num_frame=cnt, image=landmarked_img)"
   ]
  },
  {
   "cell_type": "markdown",
   "id": "f35bf6be",
   "metadata": {},
   "source": [
    "#### 데이터 설명 \n",
    " - 위 셀이 실행 되면 ac.esti_inform 속성으로 데이터가 저장됩니다.\n",
    " - ac.esti_inform의 데이터 구성은 아래와 같습니다.\n",
    " - {동작 구분 : {닮음 정도, 좌표, 이미지}}"
   ]
  },
  {
   "cell_type": "code",
   "execution_count": 5,
   "id": "7a7db850",
   "metadata": {},
   "outputs": [
    {
     "data": {
      "text/plain": [
       "{'nose': array([-0.03106143, -0.57431102, -0.44317898]),\n",
       " 'left_eye_inner': array([-0.03219242, -0.61335385, -0.42692801]),\n",
       " 'left_eye': array([-0.03186603, -0.61368579, -0.42623177]),\n",
       " 'left_eye_outer': array([-0.03188009, -0.61425096, -0.42587665]),\n",
       " 'right_eye_inner': array([-0.0630623 , -0.60405284, -0.42792735]),\n",
       " 'right_eye': array([-0.06262047, -0.60522789, -0.42858401]),\n",
       " 'right_eye_outer': array([-0.0629364 , -0.60647959, -0.42770159]),\n",
       " 'left_ear': array([ 0.01549635, -0.60056865, -0.31570807]),\n",
       " 'right_ear': array([-0.12225794, -0.57241392, -0.32777762]),\n",
       " 'mouth_left': array([-0.00467491, -0.55020648, -0.40457746]),\n",
       " 'mouth_right': array([-0.04584594, -0.53966343, -0.4069823 ]),\n",
       " 'left_shoulder': array([ 0.13043192, -0.43318024, -0.23748171]),\n",
       " 'right_shoulder': array([-0.17407763, -0.40052697, -0.25677893]),\n",
       " 'left_elbow': array([ 0.10947999, -0.20597143, -0.26692522]),\n",
       " 'right_elbow': array([-0.18471038, -0.15243277, -0.22847749]),\n",
       " 'left_wrist': array([ 0.03620585,  0.00220481, -0.3941322 ]),\n",
       " 'right_wrist': array([-0.07850065,  0.05547128, -0.29388228]),\n",
       " 'left_pinky': array([ 0.02194607,  0.08484719, -0.4273805 ]),\n",
       " 'right_pinky': array([-0.04326593,  0.13496369, -0.31635714]),\n",
       " 'left_index': array([-0.00808388,  0.07735541, -0.44934762]),\n",
       " 'right_index': array([-0.02243159,  0.11564896, -0.33867443]),\n",
       " 'left_thumb': array([ 0.01657238,  0.01506846, -0.4039627 ]),\n",
       " 'right_thumb': array([-0.05601262,  0.06426763, -0.30318323]),\n",
       " 'left_hip': array([ 0.11096241, -0.00403534, -0.00147872]),\n",
       " 'right_hip': array([-0.11145357,  0.00345383,  0.00296696]),\n",
       " 'left_knee': array([0.14964887, 0.39310089, 0.01261197]),\n",
       " 'right_knee': array([-0.14686917,  0.37436819,  0.04015932]),\n",
       " 'left_ankle': array([0.22170404, 0.72085297, 0.14855547]),\n",
       " 'right_ankle': array([-0.18860567,  0.71741629,  0.18581139]),\n",
       " 'left_heel': array([0.2351402 , 0.76322514, 0.15279983]),\n",
       " 'right_heel': array([-0.19412522,  0.76386535,  0.19267067]),\n",
       " 'left_foot_index': array([0.27353829, 0.82672364, 0.03243683]),\n",
       " 'right_foot_index': array([-0.24083583,  0.82785964,  0.08329286])}"
      ]
     },
     "execution_count": 5,
     "metadata": {},
     "output_type": "execute_result"
    }
   ],
   "source": [
    "# address 동작의 좌표들에 접근하기 위해서는 아래 코드와 같이 접근합니다.\n",
    "# ac.esti_inform['address']['coordinate'] -> dictionary 타입\n",
    "# ------------------------------------------------------------------\n",
    "ac.esti_inform['address']['coordinate']"
   ]
  },
  {
   "cell_type": "code",
   "execution_count": 7,
   "id": "ffa27ccf",
   "metadata": {},
   "outputs": [
    {
     "data": {
      "text/plain": [
       "array([-0.39508978, -0.59152544, -0.35853028])"
      ]
     },
     "execution_count": 7,
     "metadata": {},
     "output_type": "execute_result"
    }
   ],
   "source": [
    "# 위 데이터는 각 포인트별로 엉덩이 가운데를 기준으로 얼마나 떨어져 있는지를 x, y, z\n",
    "# 좌표값으로 줍니다\n",
    "# 예시) ac.esti_inform['address']['coordinate']['nose']  \n",
    "#              └> 어드레스 동작중 nose의 x, y, z 값(np.ndarray 형태)  \n",
    "# ---------------------------------------------------------------------------------\n",
    "ac.esti_inform['backswing']['coordinate']['left_wrist']"
   ]
  },
  {
   "cell_type": "code",
   "execution_count": null,
   "id": "406cfddd",
   "metadata": {},
   "outputs": [],
   "source": []
  }
 ],
 "metadata": {
  "kernelspec": {
   "display_name": "Python 3 (ipykernel)",
   "language": "python",
   "name": "python3"
  },
  "language_info": {
   "codemirror_mode": {
    "name": "ipython",
    "version": 3
   },
   "file_extension": ".py",
   "mimetype": "text/x-python",
   "name": "python",
   "nbconvert_exporter": "python",
   "pygments_lexer": "ipython3",
   "version": "3.10.6"
  }
 },
 "nbformat": 4,
 "nbformat_minor": 5
}
