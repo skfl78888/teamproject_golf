{
 "cells": [
  {
   "cell_type": "code",
   "execution_count": 1,
   "id": "c990dac1",
   "metadata": {},
   "outputs": [],
   "source": [
    "import os\n",
    "import cv2\n",
    "import json\n",
    "import copy\n",
    "import numpy as np\n",
    "import streamlit as st\n",
    "import matplotlib.pyplot as plt\n",
    "from inference.infer import PoseDetector, ActionClassifier\n",
    "from inference.rules import Rules\n",
    "import pandas as pd"
   ]
  },
  {
   "cell_type": "code",
   "execution_count": 2,
   "id": "3fd53184",
   "metadata": {},
   "outputs": [],
   "source": [
    "os.chdir('../')"
   ]
  },
  {
   "cell_type": "code",
   "execution_count": 3,
   "id": "5a1900a2",
   "metadata": {},
   "outputs": [
    {
     "data": {
      "text/plain": [
       "['0.json',\n",
       " '1.json',\n",
       " '10.json',\n",
       " '11.json',\n",
       " '12.json',\n",
       " '13.json',\n",
       " '14.json',\n",
       " '15.json',\n",
       " '16.json',\n",
       " '17.json',\n",
       " '2.json',\n",
       " '3.json',\n",
       " '4.json',\n",
       " '5.json',\n",
       " '6.json',\n",
       " '7.json',\n",
       " '8.json',\n",
       " '9.json']"
      ]
     },
     "execution_count": 3,
     "metadata": {},
     "output_type": "execute_result"
    }
   ],
   "source": [
    "os.listdir('./data_folder/labels/pro_jsons/')"
   ]
  },
  {
   "cell_type": "code",
   "execution_count": 5,
   "id": "0155ad3a",
   "metadata": {},
   "outputs": [
    {
     "data": {
      "text/plain": [
       "'D:\\\\ML\\\\ai_golf\\\\teamproject_golf'"
      ]
     },
     "execution_count": 5,
     "metadata": {},
     "output_type": "execute_result"
    }
   ],
   "source": [
    "os.getcwd()"
   ]
  },
  {
   "cell_type": "code",
   "execution_count": 9,
   "id": "9541b871",
   "metadata": {},
   "outputs": [],
   "source": [
    "rules = []\n",
    "for i in os.listdir('data_folder/labels/pro_jsons/'):\n",
    "    with open(os.path.join('./data_folder/labels/pro_jsons/', i), 'rb') as r:\n",
    "        rules.append(json.load(r))"
   ]
  },
  {
   "cell_type": "code",
   "execution_count": 10,
   "id": "6d025dc4",
   "metadata": {},
   "outputs": [
    {
     "data": {
      "text/plain": [
       "{'address': {'어깨선각도': 5.63, '양손위치': 45.5, '스탠스': 62.01, '상체기울임정도': 174.84},\n",
       " 'backswing': {'왼쪽어깨회전': 61.68, '왼팔펴짐각도': 149.95},\n",
       " 'top': {'하체고정': 42.59, '오른쪽다리펴짐각도': 179.0, '스웨이체크': 43.74},\n",
       " 'impact': {'행잉백': 6.19,\n",
       "  '오른쪽K라인각도': 146.12,\n",
       "  '왼팔펴짐각도': 171.17,\n",
       "  '오른팔펴짐각도': 167.09},\n",
       " 'follow': {'왼쪽라인': 4.83, '치킨윙': 175.9, '체중전진이동': 63.5, '오른쪽다리펴짐각도': 159.91}}"
      ]
     },
     "execution_count": 10,
     "metadata": {},
     "output_type": "execute_result"
    }
   ],
   "source": [
    "rules[0]"
   ]
  },
  {
   "cell_type": "code",
   "execution_count": 26,
   "id": "fc93e31e",
   "metadata": {
    "scrolled": true
   },
   "outputs": [
    {
     "data": {
      "text/html": [
       "<div>\n",
       "<style scoped>\n",
       "    .dataframe tbody tr th:only-of-type {\n",
       "        vertical-align: middle;\n",
       "    }\n",
       "\n",
       "    .dataframe tbody tr th {\n",
       "        vertical-align: top;\n",
       "    }\n",
       "\n",
       "    .dataframe thead th {\n",
       "        text-align: right;\n",
       "    }\n",
       "</style>\n",
       "<table border=\"1\" class=\"dataframe\">\n",
       "  <thead>\n",
       "    <tr style=\"text-align: right;\">\n",
       "      <th></th>\n",
       "      <th>어깨선각도</th>\n",
       "      <th>양손위치</th>\n",
       "      <th>스탠스</th>\n",
       "      <th>상체기울임정도</th>\n",
       "    </tr>\n",
       "  </thead>\n",
       "  <tbody>\n",
       "    <tr>\n",
       "      <th>count</th>\n",
       "      <td>18.000000</td>\n",
       "      <td>18.000000</td>\n",
       "      <td>18.000000</td>\n",
       "      <td>18.000000</td>\n",
       "    </tr>\n",
       "    <tr>\n",
       "      <th>mean</th>\n",
       "      <td>10.718889</td>\n",
       "      <td>51.009444</td>\n",
       "      <td>57.922778</td>\n",
       "      <td>181.328333</td>\n",
       "    </tr>\n",
       "    <tr>\n",
       "      <th>std</th>\n",
       "      <td>3.403249</td>\n",
       "      <td>5.439118</td>\n",
       "      <td>5.706392</td>\n",
       "      <td>9.665421</td>\n",
       "    </tr>\n",
       "    <tr>\n",
       "      <th>min</th>\n",
       "      <td>3.270000</td>\n",
       "      <td>41.460000</td>\n",
       "      <td>47.740000</td>\n",
       "      <td>164.810000</td>\n",
       "    </tr>\n",
       "    <tr>\n",
       "      <th>25%</th>\n",
       "      <td>8.425000</td>\n",
       "      <td>46.317500</td>\n",
       "      <td>54.382500</td>\n",
       "      <td>175.150000</td>\n",
       "    </tr>\n",
       "    <tr>\n",
       "      <th>50%</th>\n",
       "      <td>11.330000</td>\n",
       "      <td>52.655000</td>\n",
       "      <td>56.240000</td>\n",
       "      <td>180.440000</td>\n",
       "    </tr>\n",
       "    <tr>\n",
       "      <th>75%</th>\n",
       "      <td>12.870000</td>\n",
       "      <td>54.740000</td>\n",
       "      <td>61.897500</td>\n",
       "      <td>184.575000</td>\n",
       "    </tr>\n",
       "    <tr>\n",
       "      <th>max</th>\n",
       "      <td>15.210000</td>\n",
       "      <td>59.120000</td>\n",
       "      <td>71.500000</td>\n",
       "      <td>199.090000</td>\n",
       "    </tr>\n",
       "  </tbody>\n",
       "</table>\n",
       "</div>"
      ],
      "text/plain": [
       "           어깨선각도       양손위치        스탠스     상체기울임정도\n",
       "count  18.000000  18.000000  18.000000   18.000000\n",
       "mean   10.718889  51.009444  57.922778  181.328333\n",
       "std     3.403249   5.439118   5.706392    9.665421\n",
       "min     3.270000  41.460000  47.740000  164.810000\n",
       "25%     8.425000  46.317500  54.382500  175.150000\n",
       "50%    11.330000  52.655000  56.240000  180.440000\n",
       "75%    12.870000  54.740000  61.897500  184.575000\n",
       "max    15.210000  59.120000  71.500000  199.090000"
      ]
     },
     "execution_count": 26,
     "metadata": {},
     "output_type": "execute_result"
    }
   ],
   "source": [
    "address_df = pd.DataFrame()\n",
    "for rule in rules:\n",
    "    if len(address_df) == 0:\n",
    "        address_df = pd.DataFrame(data=[list(rule['address'].values())],\n",
    "                                 columns=list(rule['address'].keys()))\n",
    "    else:\n",
    "        new = pd.DataFrame(data=[list(rule['address'].values())],\n",
    "                                 columns=list(rule['address'].keys()))\n",
    "        address_df = pd.concat([address_df, new])\n",
    "\n",
    "address_df.reset_index(inplace=True,drop=True)\n",
    "address_df.describe()"
   ]
  },
  {
   "cell_type": "code",
   "execution_count": 39,
   "id": "950d1891",
   "metadata": {
    "scrolled": true
   },
   "outputs": [
    {
     "data": {
      "text/html": [
       "<div>\n",
       "<style scoped>\n",
       "    .dataframe tbody tr th:only-of-type {\n",
       "        vertical-align: middle;\n",
       "    }\n",
       "\n",
       "    .dataframe tbody tr th {\n",
       "        vertical-align: top;\n",
       "    }\n",
       "\n",
       "    .dataframe thead th {\n",
       "        text-align: right;\n",
       "    }\n",
       "</style>\n",
       "<table border=\"1\" class=\"dataframe\">\n",
       "  <thead>\n",
       "    <tr style=\"text-align: right;\">\n",
       "      <th></th>\n",
       "      <th>왼쪽어깨회전</th>\n",
       "      <th>왼팔펴짐각도</th>\n",
       "    </tr>\n",
       "  </thead>\n",
       "  <tbody>\n",
       "    <tr>\n",
       "      <th>count</th>\n",
       "      <td>18.000000</td>\n",
       "      <td>18.000000</td>\n",
       "    </tr>\n",
       "    <tr>\n",
       "      <th>mean</th>\n",
       "      <td>47.181111</td>\n",
       "      <td>147.475556</td>\n",
       "    </tr>\n",
       "    <tr>\n",
       "      <th>std</th>\n",
       "      <td>8.981905</td>\n",
       "      <td>18.825317</td>\n",
       "    </tr>\n",
       "    <tr>\n",
       "      <th>min</th>\n",
       "      <td>30.990000</td>\n",
       "      <td>93.130000</td>\n",
       "    </tr>\n",
       "    <tr>\n",
       "      <th>25%</th>\n",
       "      <td>41.612500</td>\n",
       "      <td>142.365000</td>\n",
       "    </tr>\n",
       "    <tr>\n",
       "      <th>50%</th>\n",
       "      <td>47.475000</td>\n",
       "      <td>152.360000</td>\n",
       "    </tr>\n",
       "    <tr>\n",
       "      <th>75%</th>\n",
       "      <td>54.035000</td>\n",
       "      <td>157.572500</td>\n",
       "    </tr>\n",
       "    <tr>\n",
       "      <th>max</th>\n",
       "      <td>61.680000</td>\n",
       "      <td>172.190000</td>\n",
       "    </tr>\n",
       "  </tbody>\n",
       "</table>\n",
       "</div>"
      ],
      "text/plain": [
       "          왼쪽어깨회전      왼팔펴짐각도\n",
       "count  18.000000   18.000000\n",
       "mean   47.181111  147.475556\n",
       "std     8.981905   18.825317\n",
       "min    30.990000   93.130000\n",
       "25%    41.612500  142.365000\n",
       "50%    47.475000  152.360000\n",
       "75%    54.035000  157.572500\n",
       "max    61.680000  172.190000"
      ]
     },
     "execution_count": 39,
     "metadata": {},
     "output_type": "execute_result"
    }
   ],
   "source": [
    "backswing_df = pd.DataFrame()\n",
    "for rule in rules:\n",
    "    if len(backswing_df) == 0:\n",
    "        backswing_df = pd.DataFrame(data=[list(rule['backswing'].values())],\n",
    "                                 columns=list(rule['backswing'].keys()))\n",
    "    else:\n",
    "        new = pd.DataFrame(data=[list(rule['backswing'].values())],\n",
    "                                 columns=list(rule['backswing'].keys()))\n",
    "        backswing_df = pd.concat([backswing_df, new])\n",
    "\n",
    "backswing_df.reset_index(inplace=True,drop=True)\n",
    "backswing_df.describe()"
   ]
  },
  {
   "cell_type": "code",
   "execution_count": 35,
   "id": "28aa0b0c",
   "metadata": {
    "scrolled": true
   },
   "outputs": [
    {
     "data": {
      "text/html": [
       "<div>\n",
       "<style scoped>\n",
       "    .dataframe tbody tr th:only-of-type {\n",
       "        vertical-align: middle;\n",
       "    }\n",
       "\n",
       "    .dataframe tbody tr th {\n",
       "        vertical-align: top;\n",
       "    }\n",
       "\n",
       "    .dataframe thead th {\n",
       "        text-align: right;\n",
       "    }\n",
       "</style>\n",
       "<table border=\"1\" class=\"dataframe\">\n",
       "  <thead>\n",
       "    <tr style=\"text-align: right;\">\n",
       "      <th></th>\n",
       "      <th>하체고정</th>\n",
       "      <th>오른쪽다리펴짐각도</th>\n",
       "      <th>스웨이체크</th>\n",
       "    </tr>\n",
       "  </thead>\n",
       "  <tbody>\n",
       "    <tr>\n",
       "      <th>count</th>\n",
       "      <td>18.000000</td>\n",
       "      <td>18.000000</td>\n",
       "      <td>18.000000</td>\n",
       "    </tr>\n",
       "    <tr>\n",
       "      <th>mean</th>\n",
       "      <td>38.784444</td>\n",
       "      <td>173.318333</td>\n",
       "      <td>27.542222</td>\n",
       "    </tr>\n",
       "    <tr>\n",
       "      <th>std</th>\n",
       "      <td>8.348269</td>\n",
       "      <td>5.564564</td>\n",
       "      <td>10.233604</td>\n",
       "    </tr>\n",
       "    <tr>\n",
       "      <th>min</th>\n",
       "      <td>17.500000</td>\n",
       "      <td>159.000000</td>\n",
       "      <td>8.360000</td>\n",
       "    </tr>\n",
       "    <tr>\n",
       "      <th>25%</th>\n",
       "      <td>36.385000</td>\n",
       "      <td>170.775000</td>\n",
       "      <td>23.965000</td>\n",
       "    </tr>\n",
       "    <tr>\n",
       "      <th>50%</th>\n",
       "      <td>41.870000</td>\n",
       "      <td>174.220000</td>\n",
       "      <td>29.945000</td>\n",
       "    </tr>\n",
       "    <tr>\n",
       "      <th>75%</th>\n",
       "      <td>44.535000</td>\n",
       "      <td>178.157500</td>\n",
       "      <td>35.400000</td>\n",
       "    </tr>\n",
       "    <tr>\n",
       "      <th>max</th>\n",
       "      <td>48.580000</td>\n",
       "      <td>179.200000</td>\n",
       "      <td>43.740000</td>\n",
       "    </tr>\n",
       "  </tbody>\n",
       "</table>\n",
       "</div>"
      ],
      "text/plain": [
       "            하체고정   오른쪽다리펴짐각도      스웨이체크\n",
       "count  18.000000   18.000000  18.000000\n",
       "mean   38.784444  173.318333  27.542222\n",
       "std     8.348269    5.564564  10.233604\n",
       "min    17.500000  159.000000   8.360000\n",
       "25%    36.385000  170.775000  23.965000\n",
       "50%    41.870000  174.220000  29.945000\n",
       "75%    44.535000  178.157500  35.400000\n",
       "max    48.580000  179.200000  43.740000"
      ]
     },
     "execution_count": 35,
     "metadata": {},
     "output_type": "execute_result"
    }
   ],
   "source": [
    "top_df = pd.DataFrame()\n",
    "for rule in rules:\n",
    "    if len(top_df) == 0:\n",
    "        top_df = pd.DataFrame(data=[list(rule['top'].values())],\n",
    "                                 columns=list(rule['top'].keys()))\n",
    "    else:\n",
    "        new = pd.DataFrame(data=[list(rule['top'].values())],\n",
    "                                 columns=list(rule['top'].keys()))\n",
    "        top_df = pd.concat([top_df, new])\n",
    "\n",
    "top_df.reset_index(inplace=True,drop=True)\n",
    "top_df.describe()"
   ]
  },
  {
   "cell_type": "code",
   "execution_count": 37,
   "id": "1917aa0c",
   "metadata": {
    "scrolled": true
   },
   "outputs": [
    {
     "data": {
      "text/html": [
       "<div>\n",
       "<style scoped>\n",
       "    .dataframe tbody tr th:only-of-type {\n",
       "        vertical-align: middle;\n",
       "    }\n",
       "\n",
       "    .dataframe tbody tr th {\n",
       "        vertical-align: top;\n",
       "    }\n",
       "\n",
       "    .dataframe thead th {\n",
       "        text-align: right;\n",
       "    }\n",
       "</style>\n",
       "<table border=\"1\" class=\"dataframe\">\n",
       "  <thead>\n",
       "    <tr style=\"text-align: right;\">\n",
       "      <th></th>\n",
       "      <th>행잉백</th>\n",
       "      <th>오른쪽K라인각도</th>\n",
       "      <th>왼팔펴짐각도</th>\n",
       "      <th>오른팔펴짐각도</th>\n",
       "    </tr>\n",
       "  </thead>\n",
       "  <tbody>\n",
       "    <tr>\n",
       "      <th>count</th>\n",
       "      <td>18.000000</td>\n",
       "      <td>18.000000</td>\n",
       "      <td>18.000000</td>\n",
       "      <td>18.000000</td>\n",
       "    </tr>\n",
       "    <tr>\n",
       "      <th>mean</th>\n",
       "      <td>8.542778</td>\n",
       "      <td>148.590000</td>\n",
       "      <td>172.623333</td>\n",
       "      <td>159.403333</td>\n",
       "    </tr>\n",
       "    <tr>\n",
       "      <th>std</th>\n",
       "      <td>3.430462</td>\n",
       "      <td>11.429555</td>\n",
       "      <td>6.064848</td>\n",
       "      <td>10.579996</td>\n",
       "    </tr>\n",
       "    <tr>\n",
       "      <th>min</th>\n",
       "      <td>2.470000</td>\n",
       "      <td>131.660000</td>\n",
       "      <td>158.980000</td>\n",
       "      <td>123.940000</td>\n",
       "    </tr>\n",
       "    <tr>\n",
       "      <th>25%</th>\n",
       "      <td>6.965000</td>\n",
       "      <td>141.125000</td>\n",
       "      <td>169.255000</td>\n",
       "      <td>155.962500</td>\n",
       "    </tr>\n",
       "    <tr>\n",
       "      <th>50%</th>\n",
       "      <td>7.925000</td>\n",
       "      <td>145.560000</td>\n",
       "      <td>174.880000</td>\n",
       "      <td>160.930000</td>\n",
       "    </tr>\n",
       "    <tr>\n",
       "      <th>75%</th>\n",
       "      <td>9.487500</td>\n",
       "      <td>158.457500</td>\n",
       "      <td>176.642500</td>\n",
       "      <td>165.650000</td>\n",
       "    </tr>\n",
       "    <tr>\n",
       "      <th>max</th>\n",
       "      <td>16.580000</td>\n",
       "      <td>168.170000</td>\n",
       "      <td>179.600000</td>\n",
       "      <td>172.490000</td>\n",
       "    </tr>\n",
       "  </tbody>\n",
       "</table>\n",
       "</div>"
      ],
      "text/plain": [
       "             행잉백    오른쪽K라인각도      왼팔펴짐각도     오른팔펴짐각도\n",
       "count  18.000000   18.000000   18.000000   18.000000\n",
       "mean    8.542778  148.590000  172.623333  159.403333\n",
       "std     3.430462   11.429555    6.064848   10.579996\n",
       "min     2.470000  131.660000  158.980000  123.940000\n",
       "25%     6.965000  141.125000  169.255000  155.962500\n",
       "50%     7.925000  145.560000  174.880000  160.930000\n",
       "75%     9.487500  158.457500  176.642500  165.650000\n",
       "max    16.580000  168.170000  179.600000  172.490000"
      ]
     },
     "execution_count": 37,
     "metadata": {},
     "output_type": "execute_result"
    }
   ],
   "source": [
    "impact_df = pd.DataFrame()\n",
    "for rule in rules:\n",
    "    if len(impact_df) == 0:\n",
    "        impact_df = pd.DataFrame(data=[list(rule['impact'].values())],\n",
    "                                 columns=list(rule['impact'].keys()))\n",
    "    else:\n",
    "        new = pd.DataFrame(data=[list(rule['impact'].values())],\n",
    "                                 columns=list(rule['impact'].keys()))\n",
    "        impact_df = pd.concat([impact_df, new])\n",
    "\n",
    "impact_df.reset_index(inplace=True,drop=True)\n",
    "impact_df.describe()"
   ]
  },
  {
   "cell_type": "code",
   "execution_count": 38,
   "id": "6b85a03a",
   "metadata": {},
   "outputs": [
    {
     "data": {
      "text/html": [
       "<div>\n",
       "<style scoped>\n",
       "    .dataframe tbody tr th:only-of-type {\n",
       "        vertical-align: middle;\n",
       "    }\n",
       "\n",
       "    .dataframe tbody tr th {\n",
       "        vertical-align: top;\n",
       "    }\n",
       "\n",
       "    .dataframe thead th {\n",
       "        text-align: right;\n",
       "    }\n",
       "</style>\n",
       "<table border=\"1\" class=\"dataframe\">\n",
       "  <thead>\n",
       "    <tr style=\"text-align: right;\">\n",
       "      <th></th>\n",
       "      <th>왼쪽라인</th>\n",
       "      <th>치킨윙</th>\n",
       "      <th>체중전진이동</th>\n",
       "      <th>오른쪽다리펴짐각도</th>\n",
       "    </tr>\n",
       "  </thead>\n",
       "  <tbody>\n",
       "    <tr>\n",
       "      <th>count</th>\n",
       "      <td>18.000000</td>\n",
       "      <td>18.000000</td>\n",
       "      <td>18.000000</td>\n",
       "      <td>18.000000</td>\n",
       "    </tr>\n",
       "    <tr>\n",
       "      <th>mean</th>\n",
       "      <td>6.010556</td>\n",
       "      <td>163.022778</td>\n",
       "      <td>62.194444</td>\n",
       "      <td>157.693333</td>\n",
       "    </tr>\n",
       "    <tr>\n",
       "      <th>std</th>\n",
       "      <td>3.409099</td>\n",
       "      <td>25.749572</td>\n",
       "      <td>8.352250</td>\n",
       "      <td>11.935176</td>\n",
       "    </tr>\n",
       "    <tr>\n",
       "      <th>min</th>\n",
       "      <td>0.170000</td>\n",
       "      <td>63.860000</td>\n",
       "      <td>48.710000</td>\n",
       "      <td>138.030000</td>\n",
       "    </tr>\n",
       "    <tr>\n",
       "      <th>25%</th>\n",
       "      <td>4.365000</td>\n",
       "      <td>161.320000</td>\n",
       "      <td>55.517500</td>\n",
       "      <td>144.677500</td>\n",
       "    </tr>\n",
       "    <tr>\n",
       "      <th>50%</th>\n",
       "      <td>5.875000</td>\n",
       "      <td>169.955000</td>\n",
       "      <td>62.590000</td>\n",
       "      <td>160.165000</td>\n",
       "    </tr>\n",
       "    <tr>\n",
       "      <th>75%</th>\n",
       "      <td>8.592500</td>\n",
       "      <td>174.217500</td>\n",
       "      <td>69.417500</td>\n",
       "      <td>167.555000</td>\n",
       "    </tr>\n",
       "    <tr>\n",
       "      <th>max</th>\n",
       "      <td>12.210000</td>\n",
       "      <td>177.230000</td>\n",
       "      <td>74.740000</td>\n",
       "      <td>174.600000</td>\n",
       "    </tr>\n",
       "  </tbody>\n",
       "</table>\n",
       "</div>"
      ],
      "text/plain": [
       "            왼쪽라인         치킨윙     체중전진이동   오른쪽다리펴짐각도\n",
       "count  18.000000   18.000000  18.000000   18.000000\n",
       "mean    6.010556  163.022778  62.194444  157.693333\n",
       "std     3.409099   25.749572   8.352250   11.935176\n",
       "min     0.170000   63.860000  48.710000  138.030000\n",
       "25%     4.365000  161.320000  55.517500  144.677500\n",
       "50%     5.875000  169.955000  62.590000  160.165000\n",
       "75%     8.592500  174.217500  69.417500  167.555000\n",
       "max    12.210000  177.230000  74.740000  174.600000"
      ]
     },
     "execution_count": 38,
     "metadata": {},
     "output_type": "execute_result"
    }
   ],
   "source": [
    "follow_df = pd.DataFrame()\n",
    "for rule in rules:\n",
    "    if len(follow_df) == 0:\n",
    "        follow_df = pd.DataFrame(data=[list(rule['follow'].values())],\n",
    "                                 columns=list(rule['follow'].keys()))\n",
    "    else:\n",
    "        new = pd.DataFrame(data=[list(rule['follow'].values())],\n",
    "                                 columns=list(rule['follow'].keys()))\n",
    "        follow_df = pd.concat([follow_df, new])\n",
    "\n",
    "follow_df.reset_index(inplace=True,drop=True)\n",
    "follow_df.describe()"
   ]
  },
  {
   "cell_type": "code",
   "execution_count": null,
   "id": "e8525e39",
   "metadata": {},
   "outputs": [],
   "source": []
  },
  {
   "cell_type": "code",
   "execution_count": null,
   "id": "b5eeb4fe",
   "metadata": {},
   "outputs": [],
   "source": [
    "top_df = pd.DataFrame()\n",
    "for rule in rules:\n",
    "    if len(back_df) == 0:\n",
    "        back_df = pd.DataFrame(data=[list(rule['backswing'].values())],\n",
    "                                 columns=list(rule['backswing'].keys()))\n",
    "    else:\n",
    "        new = pd.DataFrame(data=[list(rule['backswing'].values())],\n",
    "                                 columns=list(rule['backswing'].keys()))\n",
    "        back_df = pd.concat([back_df, new])\n",
    "\n",
    "back_df.reset_index(inplace=True,drop=True)\n",
    "back_df.describe()"
   ]
  },
  {
   "cell_type": "code",
   "execution_count": null,
   "id": "8a90fb69",
   "metadata": {},
   "outputs": [],
   "source": []
  },
  {
   "cell_type": "code",
   "execution_count": null,
   "id": "3c22f2bd",
   "metadata": {},
   "outputs": [],
   "source": []
  },
  {
   "cell_type": "code",
   "execution_count": null,
   "id": "369675dd",
   "metadata": {},
   "outputs": [],
   "source": []
  },
  {
   "cell_type": "code",
   "execution_count": null,
   "id": "b7eacd53",
   "metadata": {},
   "outputs": [],
   "source": []
  },
  {
   "cell_type": "code",
   "execution_count": null,
   "id": "f4aedb8a",
   "metadata": {},
   "outputs": [],
   "source": []
  },
  {
   "cell_type": "code",
   "execution_count": null,
   "id": "f8640248",
   "metadata": {},
   "outputs": [],
   "source": [
    "a = list(esti_rule['address'].values())\n",
    "\n",
    "b = list(esti_rule['address'].keys())\n",
    "\n",
    "pd.DataFrame(data=[a], columns=b)"
   ]
  },
  {
   "cell_type": "code",
   "execution_count": null,
   "id": "068d0d1e",
   "metadata": {},
   "outputs": [],
   "source": []
  },
  {
   "cell_type": "code",
   "execution_count": null,
   "id": "50fd1f22",
   "metadata": {},
   "outputs": [],
   "source": []
  },
  {
   "cell_type": "code",
   "execution_count": null,
   "id": "170062ac",
   "metadata": {},
   "outputs": [],
   "source": []
  },
  {
   "cell_type": "code",
   "execution_count": null,
   "id": "b586545b",
   "metadata": {},
   "outputs": [],
   "source": []
  },
  {
   "cell_type": "code",
   "execution_count": null,
   "id": "be5ec534",
   "metadata": {},
   "outputs": [],
   "source": []
  },
  {
   "cell_type": "code",
   "execution_count": null,
   "id": "4f3cc005",
   "metadata": {},
   "outputs": [],
   "source": []
  },
  {
   "cell_type": "code",
   "execution_count": null,
   "id": "d108589f",
   "metadata": {},
   "outputs": [],
   "source": []
  },
  {
   "cell_type": "code",
   "execution_count": 5,
   "id": "effb8ce5",
   "metadata": {},
   "outputs": [],
   "source": [
    "# ----------------------------------------------------------\n",
    "\n",
    "rule = Rules()\n",
    "with open('data_folder/parameter/params.json', 'r') as r:\n",
    "    params = json.load(r)"
   ]
  },
  {
   "cell_type": "code",
   "execution_count": 7,
   "id": "e7ddced8",
   "metadata": {},
   "outputs": [
    {
     "name": "stdout",
     "output_type": "stream",
     "text": [
      "data_folder/src/pro/타이거우즈 드라이버 시퀀스 !!.mp4\n",
      "--------------------\n",
      "data_folder/src/pro/타이거우즈 스윙 슬로우모션 100번돌려보기.mp4\n",
      "--------------------\n",
      "data_folder/src/pro/프로골퍼 🏌️_♀️ 드라이버 스윙, 골프 스윙 , #shorts ❤️ 임선수 🌿  Im Ji Dong (12).mp4\n",
      "--------------------\n",
      "data_folder/src/pro/프로골퍼 🏌️_♀️ 드라이버 스윙, 골프 스윙 , #shorts 💟 김진주 💎 Kim Jin Joo (2).mp4\n",
      "--------------------\n",
      "data_folder/src/pro/환상적이야! 로리맥길로이 와 함께 드라이버스윙 #골프스윙 #드라이버스윙 #로리맥킬로이 #로리맥길로이.mp4\n"
     ]
    },
    {
     "ename": "AttributeError",
     "evalue": "'NoneType' object has no attribute 'landmark'",
     "output_type": "error",
     "traceback": [
      "\u001b[1;31m---------------------------------------------------------------------------\u001b[0m",
      "\u001b[1;31mAttributeError\u001b[0m                            Traceback (most recent call last)",
      "Cell \u001b[1;32mIn [7], line 20\u001b[0m\n\u001b[0;32m     18\u001b[0m frame \u001b[38;5;241m=\u001b[39m cv2\u001b[38;5;241m.\u001b[39mresize(frame, dsize\u001b[38;5;241m=\u001b[39m(\u001b[38;5;241m0\u001b[39m, \u001b[38;5;241m0\u001b[39m), fx\u001b[38;5;241m=\u001b[39m\u001b[38;5;241m1.5\u001b[39m, fy\u001b[38;5;241m=\u001b[39m\u001b[38;5;241m1.5\u001b[39m, interpolation\u001b[38;5;241m=\u001b[39mcv2\u001b[38;5;241m.\u001b[39mINTER_LINEAR)\n\u001b[0;32m     19\u001b[0m pose_obj \u001b[38;5;241m=\u001b[39m pose\u001b[38;5;241m.\u001b[39mtrk_process(image\u001b[38;5;241m=\u001b[39mframe)\n\u001b[1;32m---> 20\u001b[0m \u001b[43mpose\u001b[49m\u001b[38;5;241;43m.\u001b[39;49m\u001b[43mget_coordis_3d\u001b[49m\u001b[43m(\u001b[49m\u001b[43mpose_obj\u001b[49m\u001b[43m)\u001b[49m\n\u001b[0;32m     21\u001b[0m landmarked_img \u001b[38;5;241m=\u001b[39m pose\u001b[38;5;241m.\u001b[39mdrawing_with_pose(frame, pose_obj)\n\u001b[0;32m     22\u001b[0m ac\u001b[38;5;241m.\u001b[39mupdate_information(action\u001b[38;5;241m=\u001b[39maction,\n\u001b[0;32m     23\u001b[0m                     parameter\u001b[38;5;241m=\u001b[39mparams,\n\u001b[0;32m     24\u001b[0m                     pose_coordis\u001b[38;5;241m=\u001b[39mpose\u001b[38;5;241m.\u001b[39mcoordinates,\n\u001b[0;32m     25\u001b[0m                     num_frame\u001b[38;5;241m=\u001b[39mcnt, image\u001b[38;5;241m=\u001b[39mlandmarked_img)\n",
      "File \u001b[1;32mD:\\ML\\ai_golf\\teamproject_golf\\project\\inference\\infer.py:184\u001b[0m, in \u001b[0;36mPoseDetector.get_coordis_3d\u001b[1;34m(self, trk_obj)\u001b[0m\n\u001b[0;32m    181\u001b[0m \u001b[38;5;28;01mfor\u001b[39;00m key \u001b[38;5;129;01min\u001b[39;00m \u001b[38;5;28mself\u001b[39m\u001b[38;5;241m.\u001b[39mlandmarks:\n\u001b[0;32m    182\u001b[0m     idx \u001b[38;5;241m=\u001b[39m \u001b[38;5;28mself\u001b[39m\u001b[38;5;241m.\u001b[39mlandmarks_reference[key]\n\u001b[0;32m    183\u001b[0m     \u001b[38;5;28mself\u001b[39m\u001b[38;5;241m.\u001b[39mcoordinates[key] \u001b[38;5;241m=\u001b[39m np\u001b[38;5;241m.\u001b[39marray( \n\u001b[1;32m--> 184\u001b[0m                             [\u001b[43mtrk_obj\u001b[49m\u001b[38;5;241;43m.\u001b[39;49m\u001b[43mpose_world_landmarks\u001b[49m\u001b[38;5;241;43m.\u001b[39;49m\u001b[43mlandmark\u001b[49m[idx]\u001b[38;5;241m.\u001b[39mx, \n\u001b[0;32m    185\u001b[0m                             trk_obj\u001b[38;5;241m.\u001b[39mpose_world_landmarks\u001b[38;5;241m.\u001b[39mlandmark[idx]\u001b[38;5;241m.\u001b[39my,\n\u001b[0;32m    186\u001b[0m                             trk_obj\u001b[38;5;241m.\u001b[39mpose_world_landmarks\u001b[38;5;241m.\u001b[39mlandmark[idx]\u001b[38;5;241m.\u001b[39mz,]\n\u001b[0;32m    187\u001b[0m                             )\n",
      "\u001b[1;31mAttributeError\u001b[0m: 'NoneType' object has no attribute 'landmark'"
     ]
    }
   ],
   "source": [
    "actions = params.keys()\n",
    "\n",
    "for idx, file in enumerate(os.listdir('data_folder/src/pro/')[14:]):\n",
    "    idx += 14\n",
    "    src_dir = os.path.join('data_folder/src/pro/', file)\n",
    "    print(src_dir)\n",
    "    ac = ActionClassifier()\n",
    "    pose = PoseDetector()\n",
    "    for action in actions:\n",
    "        video = cv2.VideoCapture(src_dir)\n",
    "        while video.isOpened():\n",
    "            read_ok, frame = video.read()\n",
    "            if not read_ok:\n",
    "#                 print('TRK Complete!')\n",
    "                break\n",
    "            cnt = video.get(cv2.CAP_PROP_POS_FRAMES)\n",
    "            frame = cv2.cvtColor(frame, cv2.COLOR_BGR2RGB)\n",
    "            frame = cv2.resize(frame, dsize=(0, 0), fx=1.5, fy=1.5, interpolation=cv2.INTER_LINEAR)\n",
    "            pose_obj = pose.trk_process(image=frame)\n",
    "            pose.get_coordis_3d(pose_obj)\n",
    "            landmarked_img = pose.drawing_with_pose(frame, pose_obj)\n",
    "            ac.update_information(action=action,\n",
    "                                parameter=params,\n",
    "                                pose_coordis=pose.coordinates,\n",
    "                                num_frame=cnt, image=landmarked_img)\n",
    "    with open('data_folder/parameter/label_rule_value.json', 'rb') as r:\n",
    "        label_rule = json.load(r)\n",
    "    esti_rule = copy.deepcopy(label_rule)\n",
    "    for action in ac.esti_inform:\n",
    "        esti_rule = rule.handle(action=action, \n",
    "                        value=esti_rule, \n",
    "                        coordis=ac.esti_inform[action]['coordinate'])\n",
    "    buf = './data_folder/labels/pro_jsons/' + str(idx) + '.json'\n",
    "    with open(buf, 'w',encoding='utf-8') as f:\n",
    "        json.dump(esti_rule, f, indent=4, ensure_ascii=False)\n",
    "    del(esti_rule)\n",
    "    print('-' * 20)"
   ]
  },
  {
   "cell_type": "code",
   "execution_count": null,
   "id": "158d977a",
   "metadata": {},
   "outputs": [],
   "source": []
  },
  {
   "cell_type": "code",
   "execution_count": null,
   "id": "8688d81b",
   "metadata": {},
   "outputs": [],
   "source": [
    "os.lis"
   ]
  },
  {
   "cell_type": "code",
   "execution_count": null,
   "id": "5d072067",
   "metadata": {},
   "outputs": [],
   "source": []
  },
  {
   "cell_type": "code",
   "execution_count": null,
   "id": "cf19b5b9",
   "metadata": {},
   "outputs": [],
   "source": []
  },
  {
   "cell_type": "code",
   "execution_count": null,
   "id": "aa9afa77",
   "metadata": {},
   "outputs": [],
   "source": []
  },
  {
   "cell_type": "code",
   "execution_count": null,
   "id": "6dd45693",
   "metadata": {},
   "outputs": [],
   "source": []
  },
  {
   "cell_type": "code",
   "execution_count": null,
   "id": "94a5d857",
   "metadata": {},
   "outputs": [],
   "source": []
  },
  {
   "cell_type": "code",
   "execution_count": 6,
   "id": "2f22ad33",
   "metadata": {
    "scrolled": true
   },
   "outputs": [
    {
     "data": {
      "text/plain": [
       "['타이거우즈 드라이버 시퀀스 !!.mp4',\n",
       " '타이거우즈 스윙 슬로우모션 100번돌려보기.mp4',\n",
       " '프로골퍼 🏌️_♀️ 드라이버 스윙, 골프 스윙 , #shorts ❤️ 임선수 🌿  Im Ji Dong (12).mp4',\n",
       " '프로골퍼 🏌️_♀️ 드라이버 스윙, 골프 스윙 , #shorts 💟 김진주 💎 Kim Jin Joo (2).mp4',\n",
       " '환상적이야! 로리맥길로이 와 함께 드라이버스윙 #골프스윙 #드라이버스윙 #로리맥킬로이 #로리맥길로이.mp4',\n",
       " '💥 오늘도 저에게 많은 자극 주시는 임민국 프로님 아이언 스윙+슬로우모션 #shorts.mp4']"
      ]
     },
     "execution_count": 6,
     "metadata": {},
     "output_type": "execute_result"
    }
   ],
   "source": [
    "os.listdir('./data_folder/src/pro/')[14:]"
   ]
  },
  {
   "cell_type": "code",
   "execution_count": 11,
   "id": "3169928d",
   "metadata": {},
   "outputs": [
    {
     "data": {
      "text/plain": [
       "{'address': {'어깨선각도': 10.96, '양손위치': 55.51, '스탠스': 53.11, '상체기울임정도': 177.64},\n",
       " 'backswing': {'왼쪽어깨회전': 54.13, '왼팔펴짐각도': 157.49},\n",
       " 'top': {'하체고정': 47.89, '오른쪽다리펴짐각도': 175.82, '스웨이체크': 40.04},\n",
       " 'impact': {'행잉백': 7.56,\n",
       "  '오른쪽K라인각도': 138.23,\n",
       "  '왼팔펴짐각도': 176.85,\n",
       "  '오른팔펴짐각도': 152.05},\n",
       " 'follow': {'왼쪽라인': 5.17, '치킨윙': 168.08, '체중전진이동': 68.82, '오른쪽다리펴짐각도': 174.71}}"
      ]
     },
     "execution_count": 11,
     "metadata": {},
     "output_type": "execute_result"
    }
   ],
   "source": [
    "label_rule"
   ]
  },
  {
   "cell_type": "code",
   "execution_count": 8,
   "id": "67d6a1db",
   "metadata": {},
   "outputs": [],
   "source": []
  },
  {
   "cell_type": "code",
   "execution_count": null,
   "id": "914c47d8",
   "metadata": {},
   "outputs": [],
   "source": []
  },
  {
   "cell_type": "code",
   "execution_count": 9,
   "id": "6652e140",
   "metadata": {},
   "outputs": [
    {
     "data": {
      "text/plain": [
       "{'address': {'어깨선각도': 7.24, '양손위치': 48.77, '스탠스': 55.08, '상체기울임정도': 164.81},\n",
       " 'backswing': {'왼쪽어깨회전': 48.34, '왼팔펴짐각도': 163.81},\n",
       " 'top': {'하체고정': 45.01, '오른쪽다리펴짐각도': 174.56, '스웨이체크': 35.07},\n",
       " 'impact': {'행잉백': 7.1,\n",
       "  '오른쪽K라인각도': 157.61,\n",
       "  '왼팔펴짐각도': 176.53,\n",
       "  '오른팔펴짐각도': 160.01},\n",
       " 'follow': {'왼쪽라인': 6.46, '치킨윙': 177.23, '체중전진이동': 58.53, '오른쪽다리펴짐각도': 144.28}}"
      ]
     },
     "execution_count": 9,
     "metadata": {},
     "output_type": "execute_result"
    }
   ],
   "source": [
    "esti_rule"
   ]
  },
  {
   "cell_type": "code",
   "execution_count": 26,
   "id": "3a640933",
   "metadata": {},
   "outputs": [],
   "source": []
  },
  {
   "cell_type": "code",
   "execution_count": null,
   "id": "99e41165",
   "metadata": {},
   "outputs": [],
   "source": []
  }
 ],
 "metadata": {
  "kernelspec": {
   "display_name": "golfkernel",
   "language": "python",
   "name": "ai_golf"
  },
  "language_info": {
   "codemirror_mode": {
    "name": "ipython",
    "version": 3
   },
   "file_extension": ".py",
   "mimetype": "text/x-python",
   "name": "python",
   "nbconvert_exporter": "python",
   "pygments_lexer": "ipython3",
   "version": "3.10.6"
  }
 },
 "nbformat": 4,
 "nbformat_minor": 5
}
