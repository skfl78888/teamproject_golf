{
 "cells": [
  {
   "cell_type": "code",
   "execution_count": 1,
   "id": "c990dac1",
   "metadata": {},
   "outputs": [],
   "source": [
    "import os\n",
    "import cv2\n",
    "import json\n",
    "import copy\n",
    "import numpy as np\n",
    "import streamlit as st\n",
    "import matplotlib.pyplot as plt\n",
    "from inference.infer import PoseDetector, ActionClassifier\n",
    "from inference.rules import Rules\n",
    "import pandas as pd"
   ]
  },
  {
   "cell_type": "code",
   "execution_count": 2,
   "id": "3fd53184",
   "metadata": {},
   "outputs": [],
   "source": [
    "os.chdir('../')"
   ]
  },
  {
   "cell_type": "code",
   "execution_count": 90,
   "id": "5a1900a2",
   "metadata": {},
   "outputs": [
    {
     "data": {
      "text/plain": [
       "['0.json',\n",
       " '1.json',\n",
       " '10.json',\n",
       " '11.json',\n",
       " '12.json',\n",
       " '13.json',\n",
       " '14.json',\n",
       " '15.json',\n",
       " '16.json',\n",
       " '17.json',\n",
       " '18.json',\n",
       " '2.json',\n",
       " '3.json',\n",
       " '4.json',\n",
       " '5.json',\n",
       " '6.json',\n",
       " '7.json',\n",
       " '8.json',\n",
       " '9.json']"
      ]
     },
     "execution_count": 90,
     "metadata": {},
     "output_type": "execute_result"
    }
   ],
   "source": [
    "os.listdir('./data_folder/labels/pro_jsons/')"
   ]
  },
  {
   "cell_type": "code",
   "execution_count": 4,
   "id": "0155ad3a",
   "metadata": {},
   "outputs": [
    {
     "data": {
      "text/plain": [
       "'D:\\\\ML\\\\ai_golf\\\\teamproject_golf'"
      ]
     },
     "execution_count": 4,
     "metadata": {},
     "output_type": "execute_result"
    }
   ],
   "source": [
    "os.getcwd()"
   ]
  },
  {
   "cell_type": "code",
   "execution_count": 8,
   "id": "9541b871",
   "metadata": {},
   "outputs": [],
   "source": []
  },
  {
   "cell_type": "code",
   "execution_count": null,
   "id": "b74157da",
   "metadata": {},
   "outputs": [],
   "source": []
  },
  {
   "cell_type": "code",
   "execution_count": 101,
   "id": "e63ff90d",
   "metadata": {},
   "outputs": [],
   "source": [
    "test = {}"
   ]
  },
  {
   "cell_type": "code",
   "execution_count": 102,
   "id": "ca53ac8f",
   "metadata": {},
   "outputs": [],
   "source": [
    "test['address'] = address_df.describe().round(2).iloc[1:3, :].to_dict()"
   ]
  },
  {
   "cell_type": "code",
   "execution_count": 103,
   "id": "cbf88914",
   "metadata": {},
   "outputs": [],
   "source": [
    "test['backswing'] = backswing_df.describe().round(2).iloc[1:3, :].to_dict()"
   ]
  },
  {
   "cell_type": "code",
   "execution_count": 104,
   "id": "6a60e533",
   "metadata": {},
   "outputs": [],
   "source": [
    "test['top'] = top_df.describe().round(2).iloc[1:3, :].to_dict()"
   ]
  },
  {
   "cell_type": "code",
   "execution_count": 105,
   "id": "6eb42f3d",
   "metadata": {},
   "outputs": [],
   "source": [
    "test['impact'] = impact_df.describe().round(2).iloc[1:3, :].to_dict()"
   ]
  },
  {
   "cell_type": "code",
   "execution_count": 106,
   "id": "7a63508e",
   "metadata": {},
   "outputs": [],
   "source": [
    "test['follow'] = follow_df.describe().round(2).iloc[1:3, :].to_dict()"
   ]
  },
  {
   "cell_type": "code",
   "execution_count": 107,
   "id": "3f218569",
   "metadata": {},
   "outputs": [
    {
     "data": {
      "text/plain": [
       "{'address': {'어깨선각도': {'mean': 12.2, 'std': 6.14},\n",
       "  '양손위치': {'mean': 51.31, 'std': 11.65},\n",
       "  '스탠스': {'mean': 57.54, 'std': 7.35},\n",
       "  '상체기울임정도': {'mean': 185.82, 'std': 7.26}},\n",
       " 'backswing': {'왼쪽어깨회전': {'mean': 50.99, 'std': 5.98},\n",
       "  '왼팔펴짐각도': {'mean': 152.09, 'std': 8.95}},\n",
       " 'top': {'하체고정': {'mean': 43.82, 'std': 4.02},\n",
       "  '오른쪽다리펴짐각도': {'mean': 175.32, 'std': 3.8},\n",
       "  '스웨이체크': {'mean': 33.43, 'std': 6.56}},\n",
       " 'impact': {'행잉백': {'mean': 7.57, 'std': 2.6},\n",
       "  '오른쪽K라인각도': {'mean': 144.65, 'std': 11.33},\n",
       "  '왼팔펴짐각도': {'mean': 174.42, 'std': 4.63},\n",
       "  '오른팔펴짐각도': {'mean': 162.68, 'std': 5.92}},\n",
       " 'follow': {'왼쪽라인': {'mean': 4.06, 'std': 2.69},\n",
       "  '치킨윙': {'mean': 163.68, 'std': 8.81},\n",
       "  '체중전진이동': {'mean': 68.0, 'std': 6.23},\n",
       "  '오른쪽다리펴짐각도': {'mean': 162.51, 'std': 8.55}}}"
      ]
     },
     "execution_count": 107,
     "metadata": {},
     "output_type": "execute_result"
    }
   ],
   "source": [
    "test"
   ]
  },
  {
   "cell_type": "code",
   "execution_count": 108,
   "id": "ab9b59a9",
   "metadata": {},
   "outputs": [],
   "source": [
    "buf = './data_folder/parameter/label_rule_value.json'\n",
    "with open(buf, 'w',encoding='utf-8') as f:\n",
    "    json.dump(test, f, indent=4, ensure_ascii=False)\n"
   ]
  },
  {
   "cell_type": "code",
   "execution_count": null,
   "id": "21f7c523",
   "metadata": {},
   "outputs": [],
   "source": []
  },
  {
   "cell_type": "code",
   "execution_count": null,
   "id": "fe2a52c6",
   "metadata": {},
   "outputs": [],
   "source": []
  },
  {
   "cell_type": "code",
   "execution_count": 95,
   "id": "8bd18d1b",
   "metadata": {},
   "outputs": [],
   "source": [
    "rules = []\n",
    "for i in os.listdir('data_folder/labels/pro_jsons/'):\n",
    "    with open(os.path.join('./data_folder/labels/pro_jsons/', i), 'rb') as r:\n",
    "        rules.append(json.load(r))"
   ]
  },
  {
   "cell_type": "code",
   "execution_count": 109,
   "id": "e67f8a62",
   "metadata": {},
   "outputs": [
    {
     "data": {
      "text/html": [
       "<div>\n",
       "<style scoped>\n",
       "    .dataframe tbody tr th:only-of-type {\n",
       "        vertical-align: middle;\n",
       "    }\n",
       "\n",
       "    .dataframe tbody tr th {\n",
       "        vertical-align: top;\n",
       "    }\n",
       "\n",
       "    .dataframe thead th {\n",
       "        text-align: right;\n",
       "    }\n",
       "</style>\n",
       "<table border=\"1\" class=\"dataframe\">\n",
       "  <thead>\n",
       "    <tr style=\"text-align: right;\">\n",
       "      <th></th>\n",
       "      <th>어깨선각도</th>\n",
       "      <th>양손위치</th>\n",
       "      <th>스탠스</th>\n",
       "      <th>상체기울임정도</th>\n",
       "    </tr>\n",
       "  </thead>\n",
       "  <tbody>\n",
       "    <tr>\n",
       "      <th>count</th>\n",
       "      <td>9.000000</td>\n",
       "      <td>9.000000</td>\n",
       "      <td>9.000000</td>\n",
       "      <td>9.000000</td>\n",
       "    </tr>\n",
       "    <tr>\n",
       "      <th>mean</th>\n",
       "      <td>10.593333</td>\n",
       "      <td>54.694444</td>\n",
       "      <td>56.708889</td>\n",
       "      <td>185.031111</td>\n",
       "    </tr>\n",
       "    <tr>\n",
       "      <th>std</th>\n",
       "      <td>3.672383</td>\n",
       "      <td>4.880318</td>\n",
       "      <td>7.284994</td>\n",
       "      <td>7.231050</td>\n",
       "    </tr>\n",
       "    <tr>\n",
       "      <th>min</th>\n",
       "      <td>6.780000</td>\n",
       "      <td>48.780000</td>\n",
       "      <td>48.590000</td>\n",
       "      <td>175.610000</td>\n",
       "    </tr>\n",
       "    <tr>\n",
       "      <th>25%</th>\n",
       "      <td>7.790000</td>\n",
       "      <td>52.180000</td>\n",
       "      <td>50.290000</td>\n",
       "      <td>180.830000</td>\n",
       "    </tr>\n",
       "    <tr>\n",
       "      <th>50%</th>\n",
       "      <td>9.610000</td>\n",
       "      <td>52.790000</td>\n",
       "      <td>56.200000</td>\n",
       "      <td>185.470000</td>\n",
       "    </tr>\n",
       "    <tr>\n",
       "      <th>75%</th>\n",
       "      <td>15.210000</td>\n",
       "      <td>56.520000</td>\n",
       "      <td>61.560000</td>\n",
       "      <td>187.540000</td>\n",
       "    </tr>\n",
       "    <tr>\n",
       "      <th>max</th>\n",
       "      <td>15.320000</td>\n",
       "      <td>65.640000</td>\n",
       "      <td>70.050000</td>\n",
       "      <td>198.050000</td>\n",
       "    </tr>\n",
       "  </tbody>\n",
       "</table>\n",
       "</div>"
      ],
      "text/plain": [
       "           어깨선각도       양손위치        스탠스     상체기울임정도\n",
       "count   9.000000   9.000000   9.000000    9.000000\n",
       "mean   10.593333  54.694444  56.708889  185.031111\n",
       "std     3.672383   4.880318   7.284994    7.231050\n",
       "min     6.780000  48.780000  48.590000  175.610000\n",
       "25%     7.790000  52.180000  50.290000  180.830000\n",
       "50%     9.610000  52.790000  56.200000  185.470000\n",
       "75%    15.210000  56.520000  61.560000  187.540000\n",
       "max    15.320000  65.640000  70.050000  198.050000"
      ]
     },
     "execution_count": 109,
     "metadata": {},
     "output_type": "execute_result"
    }
   ],
   "source": [
    "address_df = pd.DataFrame()\n",
    "for rule in rules[1:]:\n",
    "    if len(address_df) == 0:\n",
    "        address_df = pd.DataFrame(data=[list(rule['address'].values())],\n",
    "                                 columns=list(rule['address'].keys()))\n",
    "    else:\n",
    "        new = pd.DataFrame(data=[list(rule['address'].values())],\n",
    "                                 columns=list(rule['address'].keys()))\n",
    "        address_df = pd.concat([address_df, new])\n",
    "\n",
    "address_df.reset_index(inplace=True,drop=True)\n",
    "address_df.describe()"
   ]
  },
  {
   "cell_type": "code",
   "execution_count": 110,
   "id": "950d1891",
   "metadata": {
    "scrolled": true
   },
   "outputs": [
    {
     "data": {
      "text/html": [
       "<div>\n",
       "<style scoped>\n",
       "    .dataframe tbody tr th:only-of-type {\n",
       "        vertical-align: middle;\n",
       "    }\n",
       "\n",
       "    .dataframe tbody tr th {\n",
       "        vertical-align: top;\n",
       "    }\n",
       "\n",
       "    .dataframe thead th {\n",
       "        text-align: right;\n",
       "    }\n",
       "</style>\n",
       "<table border=\"1\" class=\"dataframe\">\n",
       "  <thead>\n",
       "    <tr style=\"text-align: right;\">\n",
       "      <th></th>\n",
       "      <th>왼쪽어깨회전</th>\n",
       "      <th>왼팔펴짐각도</th>\n",
       "    </tr>\n",
       "  </thead>\n",
       "  <tbody>\n",
       "    <tr>\n",
       "      <th>count</th>\n",
       "      <td>10.000000</td>\n",
       "      <td>10.000000</td>\n",
       "    </tr>\n",
       "    <tr>\n",
       "      <th>mean</th>\n",
       "      <td>50.987000</td>\n",
       "      <td>152.086000</td>\n",
       "    </tr>\n",
       "    <tr>\n",
       "      <th>std</th>\n",
       "      <td>5.977748</td>\n",
       "      <td>8.953288</td>\n",
       "    </tr>\n",
       "    <tr>\n",
       "      <th>min</th>\n",
       "      <td>45.630000</td>\n",
       "      <td>142.790000</td>\n",
       "    </tr>\n",
       "    <tr>\n",
       "      <th>25%</th>\n",
       "      <td>46.540000</td>\n",
       "      <td>144.647500</td>\n",
       "    </tr>\n",
       "    <tr>\n",
       "      <th>50%</th>\n",
       "      <td>48.360000</td>\n",
       "      <td>149.125000</td>\n",
       "    </tr>\n",
       "    <tr>\n",
       "      <th>75%</th>\n",
       "      <td>54.585000</td>\n",
       "      <td>159.445000</td>\n",
       "    </tr>\n",
       "    <tr>\n",
       "      <th>max</th>\n",
       "      <td>61.050000</td>\n",
       "      <td>166.690000</td>\n",
       "    </tr>\n",
       "  </tbody>\n",
       "</table>\n",
       "</div>"
      ],
      "text/plain": [
       "          왼쪽어깨회전      왼팔펴짐각도\n",
       "count  10.000000   10.000000\n",
       "mean   50.987000  152.086000\n",
       "std     5.977748    8.953288\n",
       "min    45.630000  142.790000\n",
       "25%    46.540000  144.647500\n",
       "50%    48.360000  149.125000\n",
       "75%    54.585000  159.445000\n",
       "max    61.050000  166.690000"
      ]
     },
     "execution_count": 110,
     "metadata": {},
     "output_type": "execute_result"
    }
   ],
   "source": [
    "backswing_df = pd.DataFrame()\n",
    "for rule in rules:\n",
    "    if len(backswing_df) == 0:\n",
    "        backswing_df = pd.DataFrame(data=[list(rule['backswing'].values())],\n",
    "                                 columns=list(rule['backswing'].keys()))\n",
    "    else:\n",
    "        new = pd.DataFrame(data=[list(rule['backswing'].values())],\n",
    "                                 columns=list(rule['backswing'].keys()))\n",
    "        backswing_df = pd.concat([backswing_df, new])\n",
    "\n",
    "backswing_df.reset_index(inplace=True,drop=True)\n",
    "backswing_df.describe()"
   ]
  },
  {
   "cell_type": "code",
   "execution_count": 111,
   "id": "28aa0b0c",
   "metadata": {
    "scrolled": true
   },
   "outputs": [
    {
     "data": {
      "text/html": [
       "<div>\n",
       "<style scoped>\n",
       "    .dataframe tbody tr th:only-of-type {\n",
       "        vertical-align: middle;\n",
       "    }\n",
       "\n",
       "    .dataframe tbody tr th {\n",
       "        vertical-align: top;\n",
       "    }\n",
       "\n",
       "    .dataframe thead th {\n",
       "        text-align: right;\n",
       "    }\n",
       "</style>\n",
       "<table border=\"1\" class=\"dataframe\">\n",
       "  <thead>\n",
       "    <tr style=\"text-align: right;\">\n",
       "      <th></th>\n",
       "      <th>하체고정</th>\n",
       "      <th>오른쪽다리펴짐각도</th>\n",
       "      <th>스웨이체크</th>\n",
       "    </tr>\n",
       "  </thead>\n",
       "  <tbody>\n",
       "    <tr>\n",
       "      <th>count</th>\n",
       "      <td>10.000000</td>\n",
       "      <td>10.000000</td>\n",
       "      <td>10.000000</td>\n",
       "    </tr>\n",
       "    <tr>\n",
       "      <th>mean</th>\n",
       "      <td>43.825000</td>\n",
       "      <td>175.317000</td>\n",
       "      <td>33.428000</td>\n",
       "    </tr>\n",
       "    <tr>\n",
       "      <th>std</th>\n",
       "      <td>4.020653</td>\n",
       "      <td>3.800333</td>\n",
       "      <td>6.560985</td>\n",
       "    </tr>\n",
       "    <tr>\n",
       "      <th>min</th>\n",
       "      <td>37.990000</td>\n",
       "      <td>167.150000</td>\n",
       "      <td>24.220000</td>\n",
       "    </tr>\n",
       "    <tr>\n",
       "      <th>25%</th>\n",
       "      <td>41.827500</td>\n",
       "      <td>174.350000</td>\n",
       "      <td>30.145000</td>\n",
       "    </tr>\n",
       "    <tr>\n",
       "      <th>50%</th>\n",
       "      <td>43.975000</td>\n",
       "      <td>176.060000</td>\n",
       "      <td>31.370000</td>\n",
       "    </tr>\n",
       "    <tr>\n",
       "      <th>75%</th>\n",
       "      <td>45.830000</td>\n",
       "      <td>177.577500</td>\n",
       "      <td>39.027500</td>\n",
       "    </tr>\n",
       "    <tr>\n",
       "      <th>max</th>\n",
       "      <td>51.570000</td>\n",
       "      <td>179.580000</td>\n",
       "      <td>42.920000</td>\n",
       "    </tr>\n",
       "  </tbody>\n",
       "</table>\n",
       "</div>"
      ],
      "text/plain": [
       "            하체고정   오른쪽다리펴짐각도      스웨이체크\n",
       "count  10.000000   10.000000  10.000000\n",
       "mean   43.825000  175.317000  33.428000\n",
       "std     4.020653    3.800333   6.560985\n",
       "min    37.990000  167.150000  24.220000\n",
       "25%    41.827500  174.350000  30.145000\n",
       "50%    43.975000  176.060000  31.370000\n",
       "75%    45.830000  177.577500  39.027500\n",
       "max    51.570000  179.580000  42.920000"
      ]
     },
     "execution_count": 111,
     "metadata": {},
     "output_type": "execute_result"
    }
   ],
   "source": [
    "top_df = pd.DataFrame()\n",
    "for rule in rules:\n",
    "    if len(top_df) == 0:\n",
    "        top_df = pd.DataFrame(data=[list(rule['top'].values())],\n",
    "                                 columns=list(rule['top'].keys()))\n",
    "    else:\n",
    "        new = pd.DataFrame(data=[list(rule['top'].values())],\n",
    "                                 columns=list(rule['top'].keys()))\n",
    "        top_df = pd.concat([top_df, new])\n",
    "\n",
    "top_df.reset_index(inplace=True,drop=True)\n",
    "top_df.describe()"
   ]
  },
  {
   "cell_type": "code",
   "execution_count": null,
   "id": "6c3a4538",
   "metadata": {},
   "outputs": [],
   "source": []
  },
  {
   "cell_type": "code",
   "execution_count": 112,
   "id": "1917aa0c",
   "metadata": {
    "scrolled": true
   },
   "outputs": [
    {
     "data": {
      "text/html": [
       "<div>\n",
       "<style scoped>\n",
       "    .dataframe tbody tr th:only-of-type {\n",
       "        vertical-align: middle;\n",
       "    }\n",
       "\n",
       "    .dataframe tbody tr th {\n",
       "        vertical-align: top;\n",
       "    }\n",
       "\n",
       "    .dataframe thead th {\n",
       "        text-align: right;\n",
       "    }\n",
       "</style>\n",
       "<table border=\"1\" class=\"dataframe\">\n",
       "  <thead>\n",
       "    <tr style=\"text-align: right;\">\n",
       "      <th></th>\n",
       "      <th>행잉백</th>\n",
       "      <th>오른쪽K라인각도</th>\n",
       "      <th>왼팔펴짐각도</th>\n",
       "      <th>오른팔펴짐각도</th>\n",
       "    </tr>\n",
       "  </thead>\n",
       "  <tbody>\n",
       "    <tr>\n",
       "      <th>count</th>\n",
       "      <td>10.000000</td>\n",
       "      <td>10.000000</td>\n",
       "      <td>10.000000</td>\n",
       "      <td>10.000000</td>\n",
       "    </tr>\n",
       "    <tr>\n",
       "      <th>mean</th>\n",
       "      <td>7.572000</td>\n",
       "      <td>144.646000</td>\n",
       "      <td>174.425000</td>\n",
       "      <td>162.683000</td>\n",
       "    </tr>\n",
       "    <tr>\n",
       "      <th>std</th>\n",
       "      <td>2.599161</td>\n",
       "      <td>11.328906</td>\n",
       "      <td>4.631398</td>\n",
       "      <td>5.916608</td>\n",
       "    </tr>\n",
       "    <tr>\n",
       "      <th>min</th>\n",
       "      <td>4.080000</td>\n",
       "      <td>128.770000</td>\n",
       "      <td>167.480000</td>\n",
       "      <td>155.220000</td>\n",
       "    </tr>\n",
       "    <tr>\n",
       "      <th>25%</th>\n",
       "      <td>5.600000</td>\n",
       "      <td>141.797500</td>\n",
       "      <td>170.522500</td>\n",
       "      <td>160.295000</td>\n",
       "    </tr>\n",
       "    <tr>\n",
       "      <th>50%</th>\n",
       "      <td>7.285000</td>\n",
       "      <td>143.290000</td>\n",
       "      <td>176.430000</td>\n",
       "      <td>160.720000</td>\n",
       "    </tr>\n",
       "    <tr>\n",
       "      <th>75%</th>\n",
       "      <td>9.942500</td>\n",
       "      <td>148.565000</td>\n",
       "      <td>177.720000</td>\n",
       "      <td>164.437500</td>\n",
       "    </tr>\n",
       "    <tr>\n",
       "      <th>max</th>\n",
       "      <td>11.500000</td>\n",
       "      <td>165.950000</td>\n",
       "      <td>178.980000</td>\n",
       "      <td>174.270000</td>\n",
       "    </tr>\n",
       "  </tbody>\n",
       "</table>\n",
       "</div>"
      ],
      "text/plain": [
       "             행잉백    오른쪽K라인각도      왼팔펴짐각도     오른팔펴짐각도\n",
       "count  10.000000   10.000000   10.000000   10.000000\n",
       "mean    7.572000  144.646000  174.425000  162.683000\n",
       "std     2.599161   11.328906    4.631398    5.916608\n",
       "min     4.080000  128.770000  167.480000  155.220000\n",
       "25%     5.600000  141.797500  170.522500  160.295000\n",
       "50%     7.285000  143.290000  176.430000  160.720000\n",
       "75%     9.942500  148.565000  177.720000  164.437500\n",
       "max    11.500000  165.950000  178.980000  174.270000"
      ]
     },
     "execution_count": 112,
     "metadata": {},
     "output_type": "execute_result"
    }
   ],
   "source": [
    "impact_df = pd.DataFrame()\n",
    "for rule in rules:\n",
    "    if len(impact_df) == 0:\n",
    "        impact_df = pd.DataFrame(data=[list(rule['impact'].values())],\n",
    "                                 columns=list(rule['impact'].keys()))\n",
    "    else:\n",
    "        new = pd.DataFrame(data=[list(rule['impact'].values())],\n",
    "                                 columns=list(rule['impact'].keys()))\n",
    "        impact_df = pd.concat([impact_df, new])\n",
    "\n",
    "impact_df.reset_index(inplace=True,drop=True)\n",
    "impact_df.describe()"
   ]
  },
  {
   "cell_type": "code",
   "execution_count": 113,
   "id": "6b85a03a",
   "metadata": {},
   "outputs": [
    {
     "data": {
      "text/html": [
       "<div>\n",
       "<style scoped>\n",
       "    .dataframe tbody tr th:only-of-type {\n",
       "        vertical-align: middle;\n",
       "    }\n",
       "\n",
       "    .dataframe tbody tr th {\n",
       "        vertical-align: top;\n",
       "    }\n",
       "\n",
       "    .dataframe thead th {\n",
       "        text-align: right;\n",
       "    }\n",
       "</style>\n",
       "<table border=\"1\" class=\"dataframe\">\n",
       "  <thead>\n",
       "    <tr style=\"text-align: right;\">\n",
       "      <th></th>\n",
       "      <th>왼쪽라인</th>\n",
       "      <th>치킨윙</th>\n",
       "      <th>체중전진이동</th>\n",
       "      <th>오른쪽다리펴짐각도</th>\n",
       "    </tr>\n",
       "  </thead>\n",
       "  <tbody>\n",
       "    <tr>\n",
       "      <th>count</th>\n",
       "      <td>10.000000</td>\n",
       "      <td>10.000000</td>\n",
       "      <td>10.000000</td>\n",
       "      <td>10.000000</td>\n",
       "    </tr>\n",
       "    <tr>\n",
       "      <th>mean</th>\n",
       "      <td>4.055000</td>\n",
       "      <td>163.676000</td>\n",
       "      <td>68.000000</td>\n",
       "      <td>162.507000</td>\n",
       "    </tr>\n",
       "    <tr>\n",
       "      <th>std</th>\n",
       "      <td>2.686072</td>\n",
       "      <td>8.808622</td>\n",
       "      <td>6.229246</td>\n",
       "      <td>8.545918</td>\n",
       "    </tr>\n",
       "    <tr>\n",
       "      <th>min</th>\n",
       "      <td>1.140000</td>\n",
       "      <td>144.380000</td>\n",
       "      <td>54.740000</td>\n",
       "      <td>146.030000</td>\n",
       "    </tr>\n",
       "    <tr>\n",
       "      <th>25%</th>\n",
       "      <td>2.002500</td>\n",
       "      <td>159.605000</td>\n",
       "      <td>65.395000</td>\n",
       "      <td>158.240000</td>\n",
       "    </tr>\n",
       "    <tr>\n",
       "      <th>50%</th>\n",
       "      <td>3.580000</td>\n",
       "      <td>166.220000</td>\n",
       "      <td>70.990000</td>\n",
       "      <td>163.355000</td>\n",
       "    </tr>\n",
       "    <tr>\n",
       "      <th>75%</th>\n",
       "      <td>5.567500</td>\n",
       "      <td>167.560000</td>\n",
       "      <td>71.962500</td>\n",
       "      <td>170.202500</td>\n",
       "    </tr>\n",
       "    <tr>\n",
       "      <th>max</th>\n",
       "      <td>8.700000</td>\n",
       "      <td>174.620000</td>\n",
       "      <td>74.690000</td>\n",
       "      <td>171.590000</td>\n",
       "    </tr>\n",
       "  </tbody>\n",
       "</table>\n",
       "</div>"
      ],
      "text/plain": [
       "            왼쪽라인         치킨윙     체중전진이동   오른쪽다리펴짐각도\n",
       "count  10.000000   10.000000  10.000000   10.000000\n",
       "mean    4.055000  163.676000  68.000000  162.507000\n",
       "std     2.686072    8.808622   6.229246    8.545918\n",
       "min     1.140000  144.380000  54.740000  146.030000\n",
       "25%     2.002500  159.605000  65.395000  158.240000\n",
       "50%     3.580000  166.220000  70.990000  163.355000\n",
       "75%     5.567500  167.560000  71.962500  170.202500\n",
       "max     8.700000  174.620000  74.690000  171.590000"
      ]
     },
     "execution_count": 113,
     "metadata": {},
     "output_type": "execute_result"
    }
   ],
   "source": [
    "follow_df = pd.DataFrame()\n",
    "for rule in rules:\n",
    "    if len(follow_df) == 0:\n",
    "        follow_df = pd.DataFrame(data=[list(rule['follow'].values())],\n",
    "                                 columns=list(rule['follow'].keys()))\n",
    "    else:\n",
    "        new = pd.DataFrame(data=[list(rule['follow'].values())],\n",
    "                                 columns=list(rule['follow'].keys()))\n",
    "        follow_df = pd.concat([follow_df, new])\n",
    "\n",
    "follow_df.reset_index(inplace=True,drop=True)\n",
    "follow_df.describe()"
   ]
  },
  {
   "cell_type": "code",
   "execution_count": null,
   "id": "e8525e39",
   "metadata": {},
   "outputs": [],
   "source": []
  },
  {
   "cell_type": "code",
   "execution_count": null,
   "id": "8a90fb69",
   "metadata": {},
   "outputs": [],
   "source": []
  },
  {
   "cell_type": "code",
   "execution_count": null,
   "id": "3c22f2bd",
   "metadata": {},
   "outputs": [],
   "source": []
  },
  {
   "cell_type": "code",
   "execution_count": null,
   "id": "369675dd",
   "metadata": {},
   "outputs": [],
   "source": []
  },
  {
   "cell_type": "code",
   "execution_count": null,
   "id": "b7eacd53",
   "metadata": {},
   "outputs": [],
   "source": []
  },
  {
   "cell_type": "code",
   "execution_count": null,
   "id": "f4aedb8a",
   "metadata": {},
   "outputs": [],
   "source": []
  },
  {
   "cell_type": "code",
   "execution_count": null,
   "id": "068d0d1e",
   "metadata": {},
   "outputs": [],
   "source": []
  },
  {
   "cell_type": "code",
   "execution_count": null,
   "id": "50fd1f22",
   "metadata": {},
   "outputs": [],
   "source": []
  },
  {
   "cell_type": "code",
   "execution_count": null,
   "id": "170062ac",
   "metadata": {},
   "outputs": [],
   "source": []
  },
  {
   "cell_type": "code",
   "execution_count": null,
   "id": "b586545b",
   "metadata": {},
   "outputs": [],
   "source": []
  },
  {
   "cell_type": "code",
   "execution_count": null,
   "id": "be5ec534",
   "metadata": {},
   "outputs": [],
   "source": []
  },
  {
   "cell_type": "code",
   "execution_count": null,
   "id": "4f3cc005",
   "metadata": {},
   "outputs": [],
   "source": []
  },
  {
   "cell_type": "code",
   "execution_count": null,
   "id": "d108589f",
   "metadata": {},
   "outputs": [],
   "source": []
  },
  {
   "cell_type": "code",
   "execution_count": 91,
   "id": "effb8ce5",
   "metadata": {},
   "outputs": [],
   "source": [
    "# ----------------------------------------------------------\n",
    "\n",
    "rule = Rules()\n",
    "with open('data_folder/parameter/params.json', 'r') as r:\n",
    "    params = json.load(r)"
   ]
  },
  {
   "cell_type": "code",
   "execution_count": 92,
   "id": "e7ddced8",
   "metadata": {},
   "outputs": [
    {
     "name": "stdout",
     "output_type": "stream",
     "text": [
      "data_folder/src/pro/#shorts #골프스윙 #슬로우모션.mp4\n",
      "--------------------\n",
      "data_folder/src/pro/[골프스윙] 7번아이언 슬로우모션.mp4\n",
      "--------------------\n",
      "data_folder/src/pro/[우태윤프로] 정면 슬로우모션 스윙 (1).mp4\n",
      "--------------------\n",
      "data_folder/src/pro/[전지훈프로]드라이버스윙 정면 슬로우모션 (1).mp4\n",
      "--------------------\n",
      "data_folder/src/pro/[전지훈프로]드라이버스윙 정면 슬로우모션.mp4\n",
      "--------------------\n",
      "data_folder/src/pro/드라이버 슬로우 정면샷!!💯💯이제 드디어 알것 같아요_👍👍👍 ｜ 예쁜 골프스윙TV #shorts #golf #golfswing.mp4\n",
      "--------------------\n",
      "data_folder/src/pro/드라이버 정면슬로우 최고네요!!!👍👍👍👍 ｜ 예쁜 골프스윙TV #shorts #golf #golfswing.mp4\n",
      "--------------------\n",
      "data_folder/src/pro/맥길로이 드라이버 슬로모션 🔥🔥.mp4\n",
      "--------------------\n",
      "data_folder/src/pro/아이언 정면 슬로우모션.mp4\n",
      "--------------------\n",
      "data_folder/src/pro/올바른 하체쓰임 정면 슬로우!!🔥🔥🔥🔥 ｜ 예쁜스윙TV #shorts #golf #golfswing.mp4\n",
      "--------------------\n"
     ]
    }
   ],
   "source": [
    "actions = params.keys()\n",
    "\n",
    "for idx, file in enumerate(os.listdir('data_folder/src/pro/')):\n",
    "    src_dir = os.path.join('data_folder/src/pro/', file)\n",
    "    print(src_dir)\n",
    "    ac = ActionClassifier()\n",
    "    pose = PoseDetector()\n",
    "    for action in actions:\n",
    "        video = cv2.VideoCapture(src_dir)\n",
    "        while video.isOpened():\n",
    "            read_ok, frame = video.read()\n",
    "            if not read_ok:\n",
    "#                 print('TRK Complete!')\n",
    "                break\n",
    "            cnt = video.get(cv2.CAP_PROP_POS_FRAMES)\n",
    "            frame = cv2.cvtColor(frame, cv2.COLOR_BGR2RGB)\n",
    "            frame = cv2.resize(frame, dsize=(0, 0), fx=1.5, fy=1.5, interpolation=cv2.INTER_LINEAR)\n",
    "            pose_obj = pose.trk_process(image=frame)\n",
    "            pose.get_coordis_3d(pose_obj)\n",
    "            landmarked_img = pose.drawing_with_pose(frame, pose_obj)\n",
    "            ac.update_information(action=action,\n",
    "                                parameter=params,\n",
    "                                pose_coordis=pose.coordinates,\n",
    "                                num_frame=cnt, image=landmarked_img)\n",
    "    with open('data_folder/parameter/label_rule_value.json', 'rb') as r:\n",
    "        label_rule = json.load(r)\n",
    "    esti_rule = rule.rule_structure\n",
    "    for action in ac.esti_inform:\n",
    "        esti_rule = rule.handle(action=action, \n",
    "                        value=esti_rule, \n",
    "                        coordis=ac.esti_inform[action]['coordinate'])\n",
    "    buf = './data_folder/labels/pro_jsons/' + str(idx) + '.json'\n",
    "    with open(buf, 'w',encoding='utf-8') as f:\n",
    "        json.dump(esti_rule, f, indent=4, ensure_ascii=False)\n",
    "    del(esti_rule)\n",
    "    print('-' * 20)"
   ]
  },
  {
   "cell_type": "code",
   "execution_count": null,
   "id": "158d977a",
   "metadata": {},
   "outputs": [],
   "source": []
  },
  {
   "cell_type": "code",
   "execution_count": null,
   "id": "5d072067",
   "metadata": {},
   "outputs": [],
   "source": []
  },
  {
   "cell_type": "code",
   "execution_count": null,
   "id": "cf19b5b9",
   "metadata": {},
   "outputs": [],
   "source": []
  },
  {
   "cell_type": "code",
   "execution_count": null,
   "id": "aa9afa77",
   "metadata": {},
   "outputs": [],
   "source": []
  },
  {
   "cell_type": "code",
   "execution_count": null,
   "id": "6dd45693",
   "metadata": {},
   "outputs": [],
   "source": []
  },
  {
   "cell_type": "code",
   "execution_count": null,
   "id": "94a5d857",
   "metadata": {},
   "outputs": [],
   "source": []
  },
  {
   "cell_type": "code",
   "execution_count": 26,
   "id": "3a640933",
   "metadata": {},
   "outputs": [],
   "source": []
  },
  {
   "cell_type": "code",
   "execution_count": null,
   "id": "99e41165",
   "metadata": {},
   "outputs": [],
   "source": []
  }
 ],
 "metadata": {
  "kernelspec": {
   "display_name": "golfkernel",
   "language": "python",
   "name": "ai_golf"
  },
  "language_info": {
   "codemirror_mode": {
    "name": "ipython",
    "version": 3
   },
   "file_extension": ".py",
   "mimetype": "text/x-python",
   "name": "python",
   "nbconvert_exporter": "python",
   "pygments_lexer": "ipython3",
   "version": "3.10.6"
  }
 },
 "nbformat": 4,
 "nbformat_minor": 5
}
