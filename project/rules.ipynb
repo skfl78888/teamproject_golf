{
 "cells": [
  {
   "cell_type": "code",
   "execution_count": 5,
   "id": "a3a826e9",
   "metadata": {},
   "outputs": [],
   "source": [
    "import os\n",
    "import json\n",
    "import cv2\n",
    "import numpy as np\n",
    "import matplotlib.pyplot as plt\n",
    "from inference.infer import PoseDetector, ActionClassifier"
   ]
  },
  {
   "cell_type": "code",
   "execution_count": 23,
   "id": "206a3985",
   "metadata": {},
   "outputs": [],
   "source": [
    "with open('./data_folder/parameter/label_rule_value.json', 'rb') as r:\n",
    "    s = json.load(r)"
   ]
  },
  {
   "cell_type": "code",
   "execution_count": 9,
   "id": "34b2b0ce",
   "metadata": {},
   "outputs": [
    {
     "data": {
      "text/plain": [
       "'data_folder/src/sm3.mp4'"
      ]
     },
     "execution_count": 9,
     "metadata": {},
     "output_type": "execute_result"
    }
   ],
   "source": [
    "# list 타입인 file 변수 중 원하는 영상에 접근 하시면 됩니다. \n",
    "# list 슬라이싱 사용하시면 되여\n",
    "# -------------------------------------------------------------------\n",
    "os.chdir('teamproject_golf/')\n",
    "files = os.listdir('data_folder/src/')\n",
    "files\n",
    "file = files[-3] # 이부분 변경하시면 되여 예) files[0] -> files[1]\n",
    "src_dir = os.path.join('data_folder/src/', file)\n",
    "src_dir\n",
    "# 영상을 읽어 address, top 동작 등에 맞는 프레임을 찾아 \n",
    "# 좌표들을 반환하는 코드입니다."
   ]
  },
  {
   "cell_type": "code",
   "execution_count": 10,
   "id": "effb8ce5",
   "metadata": {},
   "outputs": [],
   "source": [
    "# ----------------------------------------------------------\n",
    "pose = PoseDetector()\n",
    "ac = ActionClassifier()\n",
    "with open('data_folder/parameter/params.json', 'r') as r:\n",
    "    params = json.load(r)"
   ]
  },
  {
   "cell_type": "code",
   "execution_count": null,
   "id": "e7ddced8",
   "metadata": {},
   "outputs": [],
   "source": [
    "actions = params.keys()\n",
    "for action in actions:\n",
    "    video = cv2.VideoCapture(src_dir)\n",
    "    while video.isOpened():\n",
    "        read_ok, frame = video.read()\n",
    "        if not read_ok:\n",
    "            print('TRK Complete!')\n",
    "            break\n",
    "        cnt = video.get(cv2.CAP_PROP_POS_FRAMES)\n",
    "        frame = cv2.cvtColor(frame, cv2.COLOR_BGR2RGB)\n",
    "        frame = cv2.resize(frame, dsize=(0, 0), fx=1.5, fy=1.5, interpolation=cv2.INTER_LINEAR)\n",
    "        pose_obj = pose.trk_process(image=frame)\n",
    "        pose.get_coordis_3d(pose_obj)\n",
    "        landmarked_img = pose.drawing_with_pose(frame, pose_obj)\n",
    "        ac.update_information(action=action,\n",
    "                            parameter=params,\n",
    "                            pose_coordis=pose.coordinates,\n",
    "                            num_frame=cnt, image=landmarked_img)\n",
    "for action in actions:\n",
    "    video = cv2.VideoCapture(src_dir)\n",
    "    while video.isOpened():\n",
    "        read_ok, frame = video.read()\n",
    "        if not read_ok:\n",
    "            print('TRK Complete!')\n",
    "            break\n",
    "        cnt = video.get(cv2.CAP_PROP_POS_FRAMES)\n",
    "        frame = cv2.cvtColor(frame, cv2.COLOR_BGR2RGB)\n",
    "        frame = cv2.resize(frame, dsize=(0, 0), fx=1.5, fy=1.5, interpolation=cv2.INTER_LINEAR)\n",
    "        pose_obj = pose.trk_process(image=frame)\n",
    "        pose.get_coordis_3d(pose_obj)\n",
    "        landmarked_img = pose.drawing_with_pose(frame, pose_obj)\n",
    "        ac.update_information(action=action,\n",
    "                            parameter=params,\n",
    "                            pose_coordis=pose.coordinates,\n",
    "                            num_frame=cnt, image=landmarked_img)\n",
    "action"
   ]
  },
  {
   "cell_type": "code",
   "execution_count": null,
   "id": "aebde354",
   "metadata": {},
   "outputs": [],
   "source": [
    "#### 데이터 설명 \n",
    " - 위 셀이 실행 되면 ac.esti_inform 속성으로 데이터가 저장됩니다.\n",
    " - ac.esti_inform의 데이터 구성은 아래와 같습니다.\n",
    " - {동작 구분 : {닮음 정도, 좌표, 이미지}}\n",
    "ac.esti_inform\n",
    "plt.figure(figsize=(15,15))\n",
    "plt.imshow(ac.esti_inform['top']['image'])\n",
    "# address 동작의 좌표들에 접근하기 위해서는 아래 코드와 같이 접근합니다.\n",
    "# ac.esti_inform['address']['coordinate'] -> dictionary 타입\n",
    "# ------------------------------------------------------------------\n",
    "ac.esti_inform['backswing']['coordinate']\n",
    "# 위 데이터는 각 포인트별로 엉덩이 가운데를 기준으로 얼마나 떨어져 있는지를 x, y, z\n",
    "# 좌표값으로 줍니다\n",
    "# 예시) ac.esti_inform['address']['coordinate']['nose']  \n",
    "#              └> 어드레스 동작중 nose의 x, y, z 값(np.ndarray 형태)  \n",
    "# ---------------------------------------------------------------------------------\n",
    "ac.esti_inform['backswing']['coordinate']['left_wrist']\n",
    "ac.esti_inform['address']['coordinate']\n",
    "ac.esti_inform['backswing']['coordinate']\n",
    "ac.esti_inform['top']['coordinate']\n",
    "ac.esti_inform['impact']['coordinate']\n",
    "ac.esti_inform['follow']['coordinate']"
   ]
  },
  {
   "cell_type": "code",
   "execution_count": 11,
   "id": "7dcd5bf5",
   "metadata": {},
   "outputs": [],
   "source": [
    "# 두 점으로 기울어진 정도를 구하는 함수\n",
    "def tan_slope(a:np.ndarray,b:np.ndarray) -> float:\n",
    "    '''두 Points 가 주어졌을 때 두 point간 vector를 구하고 vector와 x축간 기울어진 정도를 구하는 함수\n",
    "    **args**\n",
    "    - a : 첫 번째 point의 vector(np.ndarray) \n",
    "    - b : 두 번째 point의 vector(np.ndarray) \n",
    "    **return**\n",
    "    - vector와 x축간 기울어진 정도(float, 0~180)'''\n",
    "    \n",
    "    x = b[0] - a[0]\n",
    "    y = abs(b[1] - a[1])\n",
    "    slope = abs(180/np.pi * np.arctan(y/x))\n",
    "    return round(slope,2)\n",
    "\n",
    "# 세점이 주어졌을 때 2번째 점에서의 각도를 구하는 함수\n",
    "def angle(a:np.ndarray,b:np.ndarray,c:np.ndarray) -> float:\n",
    "    '''세 Points 가 주어졌을 때 두번째 point에서 형성되는 각도를 구하는 함수\n",
    "        **args**\n",
    "        - a : 첫 번째 point의 vector(np.ndarray) \n",
    "        - b : 두 번째 point의 vector(np.ndarray)\n",
    "        - c : 세 번째 point의 vector(np.ndarray)\n",
    "        **return**\n",
    "        - 두번째 point에서 형성되는 각도(float)'''\n",
    "    v1 = c-b\n",
    "    v2 = a-b\n",
    "    v1 = v1[:2]\n",
    "    v2 = v2[:2]\n",
    "    angle_cos = (v1@ v2)/(np.linalg.norm(v1,2)*np.linalg.norm(v2,2))\n",
    "    angle = 180/np.pi*np.arccos(angle_cos)\n",
    "    return round(angle,2)\n",
    "\n",
    "# 2점이 주어졌을 때 가상의 라인을 긋고 그에 대한 각도를 구하는 함수\n",
    "def angle_2(a:np.ndarray,b:np.ndarray) -> float:\n",
    "    '''두 Points 가 주어졌을 때 y축방향의 가상의 line을 긋고 가상의 line에서 가상의 point를 정하여 두번째 point에서 형성되는 각도를 구하는 함수\n",
    "       가상의 point(new point)는 첫번째 점의 x좌표값과 두번째 점의 y좌표값으로 구한다\n",
    "       **args**\n",
    "        - a : 첫 번째 point의 vector(np.ndarray) \n",
    "        - b : 두 번째 point의 vector(np.ndarray)\n",
    "        **return**\n",
    "        - 두번째 point에서 형성되는 각도(float)'''\n",
    "    new_point = [b[0],a[1],0]\n",
    "    v1 = a-b\n",
    "    v2 = new_point-b\n",
    "    v1 = v1[:2]\n",
    "    v2 = v2[:2]\n",
    "    angle_cos = (v1@ v2)/(np.linalg.norm(v1,2)*np.linalg.norm(v2,2))\n",
    "    angle = 180/np.pi*np.arccos(angle_cos)\n",
    "    return round(angle,2)\n",
    "\n",
    "def ratio(a:np.ndarray, b:np.ndarray, c:np.ndarray, d:np.ndarray, dim=3) -> float:\n",
    "    '''4개 vectors가 주어졌을 때 첫번째 두번째 vectors pair와 세번째 네번째 vector pair간 비율을 구하는 함수\n",
    "    **args**\n",
    "    - (a,b) : 첫번째 vector 연산을 위한 2개 vectors(np.ndarray) \n",
    "    - (c,d) : 두번째 vector 연산을 위한 2개 vectors(np.ndarray)\n",
    "    - dim : 계산하고자 하는 차원수\n",
    "    **return**\n",
    "    - 첫번째 vector 대비 두번째 vector 비율(float)'''\n",
    "    \n",
    "    r1_vector = c[:dim] - d[:dim]\n",
    "    r1_norm = np.linalg.norm(r1_vector,2)\n",
    "    r2_vector = a[:dim] - b[:dim]\n",
    "    r2_norm = np.linalg.norm(r2_vector,2)\n",
    "    return round(abs(r2_norm/r1_norm*100),2)\n",
    "\n",
    "def ratio_interpolation(a:np.ndarray,b:np.ndarray,cal_point:np.ndarray):\n",
    "    '''3개 vectors가 주어졌을 때 첫번째 두번째 vectors pair와 cal_point와 첫번째 vector간 비율을 구하는 함수\n",
    "        **args**\n",
    "        - (a,b) : vector 연산을 위한 2개 vectors(np.ndarray) \n",
    "        - cal_point : interpolation point\n",
    "        - dim : 계산하고자 하는 차원수\n",
    "        **return**\n",
    "        - 첫번째 vector 대비 두번째 vector 비율(float)\n",
    "    '''\n",
    "    r1_vector = a[0] - b[0]\n",
    "    r2_vector = a[0] - cal_point[0]\n",
    "    print(r1_vector)\n",
    "    print(r2_vector)\n",
    "    print(cal_point)\n",
    "    return round(abs(r2_vector/r1_vector*100),2)\n",
    "\n",
    "def center_calc(start:np.ndarray, end:np.ndarray):\n",
    "    res = start + ((end-start)*0.5)\n",
    "    return res"
   ]
  },
  {
   "cell_type": "code",
   "execution_count": 13,
   "id": "177c4ac0",
   "metadata": {},
   "outputs": [
    {
     "data": {
      "text/plain": [
       "['address.json', 'backswing.json', 'follow.json', 'impact.json', 'top.json']"
      ]
     },
     "execution_count": 13,
     "metadata": {},
     "output_type": "execute_result"
    }
   ],
   "source": [
    "os.listdir('./data_folder/labels/jsons/')"
   ]
  },
  {
   "cell_type": "code",
   "execution_count": 18,
   "id": "ef546876",
   "metadata": {},
   "outputs": [],
   "source": [
    "inform = {}\n",
    "for action in os.listdir('./data_folder/labels/jsons/'):\n",
    "    ac = action[:-5]\n",
    "    with open(os.path.join('./data_folder/labels/jsons/', action), 'rb') as r:\n",
    "        inform[ac] = json.load(r)"
   ]
  },
  {
   "cell_type": "code",
   "execution_count": null,
   "id": "4481511f",
   "metadata": {},
   "outputs": [],
   "source": [
    "## 1. address\n",
    "### 어깨선각도\n",
    "# 오른쪽어깨(12)~왼쪽어깨(11)간 각도\n",
    "tan_slope(ac.esti_inform['address']['coordinate']['left_shoulder'],ac.esti_inform['address']['coordinate']['right_shoulder'])\n",
    "### 양손위치\n",
    "# 왼쪽골반(23)~오른쪽골반(24) : 왼쪽손목(15), 오른쪽손목(16)\n",
    "res = center_calc(ac.esti_inform['address']['coordinate']['left_wrist'],ac.esti_inform['address']['coordinate']['right_wrist'])\n",
    "ratio_interpolation(ac.esti_inform['address']['coordinate']['left_ankle'],ac.esti_inform['address']['coordinate']['right_ankle'],res)\n",
    "### 스탠스\n",
    "# 왼발(29), 오른발(30) : 오른쪽어깨(12)~왼쪽어깨(11)\n",
    "ratio(ac.esti_inform['address']['coordinate']['left_shoulder'],ac.esti_inform['address']['coordinate']['right_shoulder'],ac.esti_inform['address']['coordinate']['left_heel'],ac.esti_inform['address']['coordinate']['right_heel'])\n",
    "### 상체기울임정도\n",
    "# 하체비율(30~24) : 상체비율(24~12)\n",
    "ratio(ac.esti_inform['address']['coordinate']['right_heel'],ac.esti_inform['address']['coordinate']['right_hip'],ac.esti_inform['address']['coordinate']['right_hip'],ac.esti_inform['address']['coordinate']['right_shoulder'])"
   ]
  },
  {
   "cell_type": "code",
   "execution_count": null,
   "id": "fce24151",
   "metadata": {},
   "outputs": [],
   "source": [
    "## 2.백스윙\n",
    "### 왼쪽 어깨 회전\n",
    "# 왼발(29), 오른발(30) : 왼쪽어깨(11) \n",
    "ratio_interpolation(ac.esti_inform['backswing']['coordinate']['right_ankle'],ac.esti_inform['backswing']['coordinate']['left_ankle'],ac.esti_inform['top']['coordinate']['left_shoulder'])\n",
    "### 왼팔 펴짐 각도\n",
    "# 왼쪽 어깨(11) ~ 왼쪽 팔꿈치(13) ~ 왼쪽 팔꿈치(15) 각도 \n",
    "angle(ac.esti_inform['backswing']['coordinate']['left_wrist'],ac.esti_inform['backswing']['coordinate']['left_elbow'],ac.esti_inform['backswing']['coordinate']['left_shoulder'])\n",
    "tan_slope(ac.esti_inform['backswing']['coordinate']['left_elbow'],ac.esti_inform['backswing']['coordinate']['left_shoulder'])\n",
    "tan_slope(ac.esti_inform['backswing']['coordinate']['left_wrist'],ac.esti_inform['backswing']['coordinate']['left_elbow'])"
   ]
  },
  {
   "cell_type": "code",
   "execution_count": null,
   "id": "94f3c693",
   "metadata": {},
   "outputs": [],
   "source": [
    "## 3. Top\n",
    "### 하체 고정\n",
    "# 오른쪽 골반(24) ~ 오른쪽 무릎(26) ~ 왼쪽 무릎(25) 각도\n",
    "angle(ac.esti_inform['top']['coordinate']['right_knee'],ac.esti_inform['top']['coordinate']['right_hip'],ac.esti_inform['top']['coordinate']['left_knee'])\n",
    "angle(ac.esti_inform['top']['coordinate']['right_hip'],ac.esti_inform['top']['coordinate']['right_knee'],ac.esti_inform['top']['coordinate']['left_knee'])\n",
    "tan_slope(ac.esti_inform['top']['coordinate']['right_knee'],ac.esti_inform['top']['coordinate']['right_hip'])\n",
    "tan_slope(ac.esti_inform['top']['coordinate']['right_knee'],ac.esti_inform['top']['coordinate']['left_knee'])\n",
    "### 오른쪽 다리펴짐 각도\n",
    "# 오른발(28)~오른쪽 무릎(26) ~ 오른쪽 골반(24) 각도\n",
    "angle(ac.esti_inform['top']['coordinate']['right_hip'],ac.esti_inform['top']['coordinate']['right_knee'],ac.esti_inform['top']['coordinate']['right_ankle'])\n",
    "### 스웨이 체크\n",
    "res = center_calc(ac.esti_inform['top']['coordinate']['left_shoulder'],ac.esti_inform['top']['coordinate']['right_shoulder'])\n",
    "ratio_interpolation(ac.esti_inform['top']['coordinate']['right_ankle'],ac.esti_inform['top']['coordinate']['left_ankle'],res)\n",
    "ac.esti_inform['top']['coordinate']['right_ankle']\n",
    "ac.esti_inform['top']['coordinate']['left_ankle']\n",
    "ac.esti_inform['top']['coordinate']['left_shoulder']\n",
    "ac.esti_inform['top']['coordinate']['right_shoulder']\n",
    "0.32496628-(-0.2461912)\n",
    "0.07465049-(-0.2461912)\n",
    "(0.32084169)/0.57115748"
   ]
  },
  {
   "cell_type": "code",
   "execution_count": null,
   "id": "67a7f4a5",
   "metadata": {},
   "outputs": [],
   "source": [
    "## 4. Impact\n",
    "### 어깨선 각도(그냥 구해봄)\n",
    "# 오른쪽어깨(12)~왼쪽어깨(11)간 각도\n",
    "tan_slope(ac.esti_inform['impact']['coordinate']['left_shoulder'],ac.esti_inform['impact']['coordinate']['right_shoulder'])\n",
    "### 행잉백\n",
    "# 왼쪽어깨(11)~(왼쪽발목(x), 왼쪽어깨(y)점(*파생))~왼쪽발목(27)\n",
    "angle_2(ac.esti_inform['impact']['coordinate']['left_shoulder'],ac.esti_inform['impact']['coordinate']['left_ankle'])\n",
    "### 오른쪽 K라인 각도\n",
    "# 오른쪽어깨(12)~오른쪽골반(24)~오른쪽발목(28)\n",
    "angle(ac.esti_inform['impact']['coordinate']['right_shoulder'],ac.esti_inform['impact']['coordinate']['right_hip'],ac.esti_inform['impact']['coordinate']['right_ankle'])\n",
    "### 왼팔 펴짐 각도\n",
    "# 왼쪽 어깨(11) ~ 왼쪽 팔꿈치(13) ~ 왼쪽 팔꿈치(15) 각도 \n",
    "angle(ac.esti_inform['impact']['coordinate']['left_wrist'],ac.esti_inform['impact']['coordinate']['left_elbow'],ac.esti_inform['impact']['coordinate']['left_shoulder'])\n",
    "### 오른팔 펴짐 각도\n",
    "# 오른쪽 어깨(12) ~ 오른쪽 팔꿈치(14) ~ 오른쪽 팔꿈치(16) 각도 \n",
    "angle(ac.esti_inform['impact']['coordinate']['right_wrist'],ac.esti_inform['impact']['coordinate']['right_elbow'],ac.esti_inform['impact']['coordinate']['right_shoulder'])"
   ]
  },
  {
   "cell_type": "code",
   "execution_count": null,
   "id": "4b3414f6",
   "metadata": {},
   "outputs": [],
   "source": [
    "## 5.팔로우스루\n",
    "### 왼쪽 라인\n",
    "# 왼쪽발목(27)~(왼쪽발목(x), 왼쪽골반(y),*파생)~왼쪽골반(23)\n",
    "angle_2(ac.esti_inform['follow']['coordinate']['left_hip'],ac.esti_inform['follow']['coordinate']['left_ankle'])\n",
    "### 치킨윙\n",
    "# 왼쪽 어깨(11) ~ 왼쪽 팔꿈치(13) ~ 왼쪽 팔꿈치(15) 각도 \n",
    "angle(ac.esti_inform['follow']['coordinate']['left_wrist'],ac.esti_inform['follow']['coordinate']['left_elbow'],ac.esti_inform['follow']['coordinate']['left_shoulder'])\n",
    "### 체중 전진 이동\n",
    "# 왼발(29), 오른발(30) : 원점(골반중심)\n",
    "ratio_interpolation(a=ac.esti_inform['follow']['coordinate']['right_ankle'],\n",
    "                    b=ac.esti_inform['follow']['coordinate']['left_ankle'],\n",
    "                    cal_point=np.array([0,0,0]))\n",
    "### 오른쪽 다리 펴짐 각도\n",
    "# 오른발(28)~오른쪽 무릎(26) ~ 오른쪽 골반(24) 각도\n",
    "angle(ac.esti_inform['follow']['coordinate']['right_hip'],ac.esti_inform['follow']['coordinate']['right_knee'],ac.esti_inform['follow']['coordinate']['right_ankle'])"
   ]
  }
 ],
 "metadata": {
  "kernelspec": {
   "display_name": "Python 3 (ipykernel)",
   "language": "python",
   "name": "python3"
  },
  "language_info": {
   "codemirror_mode": {
    "name": "ipython",
    "version": 3
   },
   "file_extension": ".py",
   "mimetype": "text/x-python",
   "name": "python",
   "nbconvert_exporter": "python",
   "pygments_lexer": "ipython3",
   "version": "3.10.6"
  }
 },
 "nbformat": 4,
 "nbformat_minor": 5
}
